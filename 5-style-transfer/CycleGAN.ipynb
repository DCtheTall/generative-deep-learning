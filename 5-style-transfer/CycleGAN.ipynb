{
  "nbformat": 4,
  "nbformat_minor": 0,
  "metadata": {
    "colab": {
      "name": "CycleGAN.ipynb",
      "provenance": [],
      "collapsed_sections": []
    },
    "kernelspec": {
      "name": "python3",
      "display_name": "Python 3"
    }
  },
  "cells": [
    {
      "cell_type": "markdown",
      "metadata": {
        "id": "5jN2KARhZhHs",
        "colab_type": "text"
      },
      "source": [
        "# Chapter 5: Paint\n",
        "\n",
        "## CycleGAN\n",
        "\n",
        "_Style transfer_ is a machine learning task where a neural network learns to transform instances from one set of data to make it appear to have come from a second set of training instances and vice versa. For example, a style transfer model may transform photos of landscapes to look like they were painted in a particular artist's style.\n",
        "\n",
        "[_Cycle-consistent adverserial networks_](https://arxiv.org/pdf/1703.10593.pdf) (CycleGAN) is a type of neural network architecture which learns style transfer between two sets of data without the need for paired samples. This is in contrast to previous style transfer networks which required paired samples from either dataset, such as [_pix2pix_](https://arxiv.org/pdf/1611.07004.pdf).\n",
        "\n",
        "### Model Overview\n",
        "\n",
        "CycleGANs are composed of two generators and two discriminators. One generator, $G_{AB}$, takes samples from dataset $A$ and transforms it to look like a sample from dataset $B$, the other generator, $G_{BA}$, does the inverse transformation ($B$ to $A$). There are also two discriminators, the first, $D_{A}$, determines if an instance is from dataset $A$ or was transformed by $G_{BA}$ to look like it was sampled from dataset $A$. The other discriminator, $D_B$, determines if samples are from dataset $B$ or were transformed by $G_{AB}$.\n",
        "\n",
        "### The Generators\n",
        "\n",
        "Typically the generators are usually using the [_U-Net_](https://arxiv.org/pdf/1505.04597.pdf) or [_ResNet_](https://arxiv.org/pdf/1512.03385.pdf) (residual network) architecture.\n",
        "\n",
        "The U-Net is similar to a VAE except that it contains _skip connections_ or connections between downsampling and upsampling layers of the same size. It also uses a new type of layer, [instance normalization](https://arxiv.org/pdf/1607.08022.pdf), which works similarly to the batch normalization layer except it normalizes individual observations instead of a batch. Instance normalization does not compute a mean and variance and also does not learn scaling and shift parameters.\n",
        "\n",
        "TODO ResNet\n",
        "\n",
        "In a CycleGAN, we use 3 separate loss functions for the generators:\n",
        "\n",
        "- _Validity_, do the images lok like they were sampled from the target dataset?\n",
        "\n",
        "- _Reconstruction_, do images passed through both generators look like the original image?\n",
        "\n",
        "- _Identity_, if we apply generators to images from their own dataset, is the image unchanged?\n",
        "\n",
        "### The Discriminators\n",
        "\n",
        "The discriminators for CycleGAN's do not output a single number, rather they output an 8 by 8 single channel tensor. This is borrowed from _PatchGAN_, a GAN architecture which divides the image into patches and guesses if each patch is real or fake. This helps the discriminator determine if an image is real or fake based on the style rather than the content.\n",
        "\n",
        "## Setup"
      ]
    },
    {
      "cell_type": "code",
      "metadata": {
        "id": "vqR-lYTragbA",
        "colab_type": "code",
        "colab": {}
      },
      "source": [
        "# TODO install tensorflow-gpu, other dependencies"
      ],
      "execution_count": 0,
      "outputs": []
    },
    {
      "cell_type": "markdown",
      "metadata": {
        "id": "yxA1nqbOafZy",
        "colab_type": "text"
      },
      "source": [
        "## Changing Pictures of Apples to Oranges (and Vice-Versa) with a CycleGAN"
      ]
    }
  ]
}