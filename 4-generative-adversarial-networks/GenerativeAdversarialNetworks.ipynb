{
  "nbformat": 4,
  "nbformat_minor": 0,
  "metadata": {
    "colab": {
      "name": "GenerativeAdversarialNetworks.ipynb",
      "provenance": [],
      "collapsed_sections": []
    },
    "kernelspec": {
      "name": "python3",
      "display_name": "Python 3"
    },
    "accelerator": "GPU"
  },
  "cells": [
    {
      "cell_type": "markdown",
      "metadata": {
        "id": "7HE80MQLt3mv",
        "colab_type": "text"
      },
      "source": [
        "# Chapter 4: Generative Adversarial Networks\n",
        "\n",
        "## Generative Adversarial Network\n",
        "\n",
        "A _generative adversarial network_  (GAN) is a pair of ANNs, a _generator_ and a _discriminator_. The generator creates new samples from random noise and the. discriminator tries to guess if a sample is real or fake. The generator is trained to trick the discriminator, allowing it to create more convincing new data than a VAE alone. Thsi concept was introduced by Ian Goodfellow in his tutorial, [\"Generative Adversarial Networks\"](https://channel9.msdn.com/Events/Neural-Information-Processing-Systems-Conference/Neural-Information-Processing-Systems-Conference-NIPS-2016/Generative-Adversarial-Networks).\n",
        "\n",
        "Below is an example implementation of a GAN trained to generate images that look like they were sampled from [Google's Quick, Draw! dataset](https://pantheon.corp.google.com/storage/browser/quickdraw_dataset/full/numpy_bitmap?pli=1).\n",
        "\n",
        "### Implementing a GAN"
      ]
    },
    {
      "cell_type": "code",
      "metadata": {
        "id": "qxdCg8Qowhe3",
        "colab_type": "code",
        "colab": {}
      },
      "source": [
        "!pip install -U tensorflow-gpu"
      ],
      "execution_count": 0,
      "outputs": []
    },
    {
      "cell_type": "code",
      "metadata": {
        "id": "uJJ6OVd4zZYE",
        "colab_type": "code",
        "colab": {}
      },
      "source": [
        "# Mount Google drive to load the data and to save the model weights.\n",
        "# You can download the full_numpy_bitmap_camel.npy at the Quick, Draw!\n",
        "# link above.\n",
        "from google.colab import drive\n",
        "\n",
        "drive.mount('/content/gdrive/')\n",
        "drive_path_prefix = '/content/gdrive/My Drive/gdl_models/'\n",
        "checkpoint_path = drive_path_prefix + 'gan/'"
      ],
      "execution_count": 0,
      "outputs": []
    },
    {
      "cell_type": "code",
      "metadata": {
        "id": "BVNYNRqUztQF",
        "colab_type": "code",
        "colab": {}
      },
      "source": [
        "# Define a class which implements the model.\n",
        "\n",
        "from tensorflow.keras.layers import (Input, Conv2D, LeakyReLU, Activation,\n",
        "                                     Flatten, Dense, Reshape, UpSampling2D,\n",
        "                                     Conv2DTranspose, Dropout,\n",
        "                                     BatchNormalization)\n",
        "from tensorflow.keras.initializers import RandomNormal\n",
        "from tensorflow.keras.models import Model\n",
        "from tensorflow.keras.optimizers import Adam, RMSprop\n",
        "import numpy as np\n",
        "\n",
        "\n",
        "def get_activation(activation_fn_name):\n",
        "  \"\"\"Get the activation layer from the name of the function.\"\"\"\n",
        "  if activation_fn_name == 'leaky_relu':\n",
        "    return LeakyReLU(alpha=0.2)\n",
        "  return Activation(activation_fn_name)\n",
        "\n",
        "\n",
        "def get_optimizer(optimizer_name, learning_rate):\n",
        "  \"\"\"Get an optimizer by name.\"\"\"\n",
        "  if optimizer_name == 'adam':\n",
        "    return Adam(lr=learning_rate)\n",
        "  if optimizer_name == 'rmsprop':\n",
        "    return RMSprop(lr=learning_rate)\n",
        "  return Adam(lr=learning_rate)\n",
        "\n",
        "\n",
        "def set_trainable(model, value):\n",
        "  \"\"\"Set each layer of a model as trainable.\"\"\"\n",
        "  model.trainable = value\n",
        "  for l in model.layers:\n",
        "    l.trainable = value\n",
        "\n",
        "\n",
        "class GAN(object):\n",
        "  \"\"\"Implements a GAN using Keras.\"\"\"\n",
        "\n",
        "  def __init__(self, input_shape, discriminator_conv_filters,\n",
        "               discriminator_conv_kernel_size, discriminator_conv_strides,\n",
        "               discriminator_batch_norm_momentum, discriminator_activation,\n",
        "               discriminator_dropout_rate, discriminator_learning_rate,\n",
        "               generator_initial_dense_layer_size, generator_upsample,\n",
        "               generator_conv_filters, generator_conv_kernel_size,\n",
        "               generator_conv_strides, generator_batch_norm_momentum,\n",
        "               generator_activation, generator_dropout_rate,\n",
        "               generator_learning_rate, optimizer, z_dim):\n",
        "    discriminator_input = Input(shape=input_shape, name='discriminator_input')\n",
        "    x = discriminator_input\n",
        "    weight_init = RandomNormal(mean=0.0, stddev=0.02)\n",
        "    for i in range(len(discriminator_conv_kernel_size)):\n",
        "      x = Conv2D(filters=discriminator_conv_filters[i],\n",
        "                 kernel_size=discriminator_conv_kernel_size[i],\n",
        "                 strides=discriminator_conv_strides[i], padding='same',\n",
        "                 name='discriminator_conv_{}'.format(i),\n",
        "                 kernel_initializer=weight_init)(x)\n",
        "      if discriminator_batch_norm_momentum and i > 0:\n",
        "        x = BatchNormalization(momentum=discriminator_batch_norm_momentum)(x)\n",
        "      x = get_activation(discriminator_activation)(x)\n",
        "      if discriminator_dropout_rate:\n",
        "        x = Dropout(rate=discriminator_dropout_rate)(x)\n",
        "    x = Flatten()(x)\n",
        "    discriminator_output = Dense(1, activation='sigmoid',\n",
        "                                 kernel_initializer=weight_init)(x)\n",
        "    self.discriminator = Model(discriminator_input, discriminator_output)\n",
        "    self.discriminator_learning_rate = discriminator_learning_rate\n",
        "\n",
        "    self.z_dim = z_dim\n",
        "\n",
        "    generator_input = Input(shape=(z_dim,), name='generator_input')\n",
        "    x = generator_input\n",
        "    x = Dense(np.prod(generator_initial_dense_layer_size),\n",
        "              kernel_initializer=weight_init)(x)\n",
        "    if generator_batch_norm_momentum:\n",
        "      x = BatchNormalization(momentum=generator_batch_norm_momentum)(x)\n",
        "    x = get_activation(generator_activation)(x)\n",
        "    x = Reshape(generator_initial_dense_layer_size)(x)\n",
        "    if generator_dropout_rate:\n",
        "      x = Dropout(generator_dropout_rate)(x)\n",
        "    for i in range(len(generator_conv_filters)):\n",
        "      if generator_upsample[i] == 2:\n",
        "        x = UpSampling2D()(x)\n",
        "        x = Conv2D(filters=generator_conv_filters[i],\n",
        "                   kernel_size=generator_conv_kernel_size[i],\n",
        "                   padding='same', name='generator_conv_{}'.format(i),\n",
        "                   kernel_initializer=weight_init)(x)\n",
        "      else:\n",
        "        x = Conv2DTranspose(filters=generator_conv_filters[i],\n",
        "                            kernel_size=generator_conv_kernel_size[i],\n",
        "                            padding='same', strides=generator_conv_strides[i],\n",
        "                            name='generator_conv_{}'.format(i),\n",
        "                            kernel_initializer=weight_init)(x)\n",
        "      if i < len(generator_conv_filters) - 1:\n",
        "        if generator_batch_norm_momentum:\n",
        "          x = BatchNormalization(momentum=generator_batch_norm_momentum)(x)\n",
        "        x = get_activation(generator_activation)(x)\n",
        "      else:\n",
        "        x = Activation('tanh')(x)\n",
        "    generator_output = x\n",
        "    self.generator = Model(generator_input, generator_output)\n",
        "\n",
        "    self.discriminator.compile(\n",
        "        optimizer=get_optimizer(optimizer, discriminator_learning_rate),\n",
        "        loss='binary_crossentropy', metrics=['accuracy'])\n",
        "    \n",
        "    set_trainable(self.discriminator, False)\n",
        "\n",
        "    model_input = Input(shape=(z_dim,), name='model_input')\n",
        "    model_output = self.discriminator(self.generator(model_input))\n",
        "    self.model = Model(model_input, model_output)\n",
        "\n",
        "    self.model.compile(\n",
        "        optimizer=get_optimizer(optimizer, generator_learning_rate),\n",
        "        loss='binary_crossentropy', metrics=['accuracy'])\n",
        "\n",
        "    set_trainable(self.discriminator, True)\n",
        "  \n",
        "  def train_discriminator(self, X_train, batch_size):\n",
        "    \"\"\"Train the discriminator to discern between real and fake images.\"\"\"\n",
        "    idx = np.random.randint(0, len(X_train), size=batch_size)\n",
        "    X_real = X_train[idx]\n",
        "    \n",
        "    noise = np.random.normal(loc=0.0, scale=1.0, size=(batch_size, self.z_dim))\n",
        "    X_fake = self.generator.predict(noise)\n",
        "\n",
        "    y_real = np.ones((batch_size, 1))\n",
        "    y_fake = np.zeros((batch_size, 1))\n",
        "\n",
        "    d_loss_real, d_acc_real = self.discriminator.train_on_batch(X_real, y_real)\n",
        "    d_loss_fake, d_acc_fake = self.discriminator.train_on_batch(X_fake, y_fake)\n",
        "    d_loss = (d_loss_real + d_loss_fake) / 2.0\n",
        "    d_acc = (d_acc_real + d_acc_fake) / 2.0\n",
        "    return (d_loss, d_acc)\n",
        "\n",
        "  def train_generator(self, batch_size):\n",
        "    \"\"\"Train the generator to create fake images that can trick the discriminator.\"\"\"\n",
        "    noise = np.random.normal(0, 1, size=(batch_size, self.z_dim))\n",
        "    valid = np.ones((batch_size, 1))\n",
        "    return self.model.train_on_batch(noise, valid)\n",
        "\n",
        "  def train(self, X_train, batch_size, epochs, print_every_n_epochs=10,\n",
        "            initial_epoch=0, checkpoint_path=None, save_every_n_epochs=10,\n",
        "            epochs_before_starting_generator=0):\n",
        "    \"\"\"Train the GAN model.\"\"\"\n",
        "    if initial_epoch > 0 and checkpoint_path:\n",
        "      self.model.load_weights(\n",
        "          checkpoint_path + 'model_weights_{:03d}.hdf5'.format(initial_epoch))\n",
        "    for epoch in range(initial_epoch + 1, epochs + 1):\n",
        "      d_loss, d_acc = self.train_discriminator(X_train, batch_size)\n",
        "      if epoch > epochs_before_starting_generator:\n",
        "        g_loss, g_acc = self.train_generator(batch_size)\n",
        "      if epoch % print_every_n_epochs == 0:\n",
        "        print('Epoch: {}'.format(epoch))\n",
        "        print('D Loss: {:04f} D Accuracy: {:04f}'.format(d_loss, d_acc))\n",
        "        if epoch > epochs_before_starting_generator:\n",
        "          print('G Loss: {:04f} G Accuracy: {:04f}'.format(g_loss, g_acc))\n",
        "      if epoch % save_every_n_epochs == 0 and checkpoint_path:\n",
        "        print('Saving after epoch: {}'.format(epoch))\n",
        "        self.model.save_weights(checkpoint_path + 'model_weights.hdf5')\n",
        "        self.model.save_weights(\n",
        "            checkpoint_path + 'model_weights_{}.hdf5'.format(epoch))"
      ],
      "execution_count": 0,
      "outputs": []
    },
    {
      "cell_type": "code",
      "metadata": {
        "id": "qEoPxYTa8Sib",
        "colab_type": "code",
        "colab": {}
      },
      "source": [
        "gan = GAN(input_shape=(28, 28, 1),\n",
        "          discriminator_conv_filters=(64, 64, 128, 128),\n",
        "          discriminator_conv_kernel_size=(5, 5, 5, 5),\n",
        "          discriminator_conv_strides=(2, 2, 2, 1),\n",
        "          discriminator_batch_norm_momentum=None,\n",
        "          discriminator_activation='leaky_relu',\n",
        "          discriminator_dropout_rate=0.4,\n",
        "          discriminator_learning_rate=0.001,\n",
        "          generator_initial_dense_layer_size=(7, 7, 64),\n",
        "          generator_upsample=(2, 2, 1, 1),\n",
        "          generator_conv_filters=(128, 64, 64, 1),\n",
        "          generator_conv_kernel_size=(5, 5, 5, 5),\n",
        "          generator_conv_strides=(1, 1, 1, 1),\n",
        "          generator_batch_norm_momentum=0.9,\n",
        "          generator_activation='relu',\n",
        "          generator_dropout_rate=None,\n",
        "          generator_learning_rate=0.0004,\n",
        "          optimizer='rmsprop', z_dim=100)"
      ],
      "execution_count": 0,
      "outputs": []
    },
    {
      "cell_type": "code",
      "metadata": {
        "id": "Hb0zz7Dtc5Km",
        "colab_type": "code",
        "outputId": "d35fbe80-ebc5-4c9d-8648-d9b2cf2a4cdc",
        "colab": {
          "base_uri": "https://localhost:8080/",
          "height": 663
        }
      },
      "source": [
        "gan.discriminator.summary()"
      ],
      "execution_count": 0,
      "outputs": [
        {
          "output_type": "stream",
          "text": [
            "Model: \"model\"\n",
            "_________________________________________________________________\n",
            "Layer (type)                 Output Shape              Param #   \n",
            "=================================================================\n",
            "discriminator_input (InputLa [(None, 28, 28, 1)]       0         \n",
            "_________________________________________________________________\n",
            "discriminator_conv_0 (Conv2D (None, 14, 14, 64)        1664      \n",
            "_________________________________________________________________\n",
            "leaky_re_lu (LeakyReLU)      (None, 14, 14, 64)        0         \n",
            "_________________________________________________________________\n",
            "dropout (Dropout)            (None, 14, 14, 64)        0         \n",
            "_________________________________________________________________\n",
            "discriminator_conv_1 (Conv2D (None, 7, 7, 64)          102464    \n",
            "_________________________________________________________________\n",
            "leaky_re_lu_1 (LeakyReLU)    (None, 7, 7, 64)          0         \n",
            "_________________________________________________________________\n",
            "dropout_1 (Dropout)          (None, 7, 7, 64)          0         \n",
            "_________________________________________________________________\n",
            "discriminator_conv_2 (Conv2D (None, 4, 4, 128)         204928    \n",
            "_________________________________________________________________\n",
            "leaky_re_lu_2 (LeakyReLU)    (None, 4, 4, 128)         0         \n",
            "_________________________________________________________________\n",
            "dropout_2 (Dropout)          (None, 4, 4, 128)         0         \n",
            "_________________________________________________________________\n",
            "discriminator_conv_3 (Conv2D (None, 4, 4, 128)         409728    \n",
            "_________________________________________________________________\n",
            "leaky_re_lu_3 (LeakyReLU)    (None, 4, 4, 128)         0         \n",
            "_________________________________________________________________\n",
            "dropout_3 (Dropout)          (None, 4, 4, 128)         0         \n",
            "_________________________________________________________________\n",
            "flatten (Flatten)            (None, 2048)              0         \n",
            "_________________________________________________________________\n",
            "dense (Dense)                (None, 1)                 2049      \n",
            "=================================================================\n",
            "Total params: 720,833\n",
            "Trainable params: 720,833\n",
            "Non-trainable params: 0\n",
            "_________________________________________________________________\n"
          ],
          "name": "stdout"
        }
      ]
    },
    {
      "cell_type": "code",
      "metadata": {
        "id": "-2vv9DoMc80Y",
        "colab_type": "code",
        "outputId": "0b528c00-54e6-4aca-c722-7451ecd866bb",
        "colab": {
          "base_uri": "https://localhost:8080/",
          "height": 765
        }
      },
      "source": [
        "gan.generator.summary()"
      ],
      "execution_count": 0,
      "outputs": [
        {
          "output_type": "stream",
          "text": [
            "Model: \"model_1\"\n",
            "_________________________________________________________________\n",
            "Layer (type)                 Output Shape              Param #   \n",
            "=================================================================\n",
            "generator_input (InputLayer) [(None, 100)]             0         \n",
            "_________________________________________________________________\n",
            "dense_1 (Dense)              (None, 3136)              316736    \n",
            "_________________________________________________________________\n",
            "batch_normalization (BatchNo (None, 3136)              12544     \n",
            "_________________________________________________________________\n",
            "activation (Activation)      (None, 3136)              0         \n",
            "_________________________________________________________________\n",
            "reshape (Reshape)            (None, 7, 7, 64)          0         \n",
            "_________________________________________________________________\n",
            "up_sampling2d (UpSampling2D) (None, 14, 14, 64)        0         \n",
            "_________________________________________________________________\n",
            "generator_conv_0 (Conv2D)    (None, 14, 14, 128)       204928    \n",
            "_________________________________________________________________\n",
            "batch_normalization_1 (Batch (None, 14, 14, 128)       512       \n",
            "_________________________________________________________________\n",
            "activation_1 (Activation)    (None, 14, 14, 128)       0         \n",
            "_________________________________________________________________\n",
            "up_sampling2d_1 (UpSampling2 (None, 28, 28, 128)       0         \n",
            "_________________________________________________________________\n",
            "generator_conv_1 (Conv2D)    (None, 28, 28, 64)        204864    \n",
            "_________________________________________________________________\n",
            "batch_normalization_2 (Batch (None, 28, 28, 64)        256       \n",
            "_________________________________________________________________\n",
            "activation_2 (Activation)    (None, 28, 28, 64)        0         \n",
            "_________________________________________________________________\n",
            "generator_conv_2 (Conv2DTran (None, 28, 28, 64)        102464    \n",
            "_________________________________________________________________\n",
            "batch_normalization_3 (Batch (None, 28, 28, 64)        256       \n",
            "_________________________________________________________________\n",
            "activation_3 (Activation)    (None, 28, 28, 64)        0         \n",
            "_________________________________________________________________\n",
            "generator_conv_3 (Conv2DTran (None, 28, 28, 1)         1601      \n",
            "_________________________________________________________________\n",
            "activation_4 (Activation)    (None, 28, 28, 1)         0         \n",
            "=================================================================\n",
            "Total params: 844,161\n",
            "Trainable params: 837,377\n",
            "Non-trainable params: 6,784\n",
            "_________________________________________________________________\n"
          ],
          "name": "stdout"
        }
      ]
    },
    {
      "cell_type": "markdown",
      "metadata": {
        "id": "hiZj0VDC8QPq",
        "colab_type": "text"
      },
      "source": [
        "### Downloading the Data"
      ]
    },
    {
      "cell_type": "code",
      "metadata": {
        "id": "JS-gUFgercAb",
        "colab_type": "code",
        "colab": {}
      },
      "source": [
        "data_path = drive_path_prefix + 'data/full_numpy_bitmap_camel.npy'\n",
        "data = np.load(data_path)"
      ],
      "execution_count": 0,
      "outputs": []
    },
    {
      "cell_type": "code",
      "metadata": {
        "id": "f1QG9aHhrwb9",
        "colab_type": "code",
        "colab": {}
      },
      "source": [
        "X_train = data.reshape((data.shape[0], 28, 28, 1)) / 255.0"
      ],
      "execution_count": 0,
      "outputs": []
    },
    {
      "cell_type": "code",
      "metadata": {
        "id": "muAd2fzlbxCr",
        "colab_type": "code",
        "outputId": "c86048d7-8d92-4384-ae50-15928cb3ebe0",
        "colab": {
          "base_uri": "https://localhost:8080/",
          "height": 34
        }
      },
      "source": [
        "X_train.shape"
      ],
      "execution_count": 0,
      "outputs": [
        {
          "output_type": "execute_result",
          "data": {
            "text/plain": [
              "(121399, 28, 28, 1)"
            ]
          },
          "metadata": {
            "tags": []
          },
          "execution_count": 9
        }
      ]
    },
    {
      "cell_type": "markdown",
      "metadata": {
        "id": "6YkmuofP7S1O",
        "colab_type": "text"
      },
      "source": [
        "## Training the GAN\n",
        "\n",
        "Below we train the GAN, training a GAN can be difficult for many reasons:\n",
        "\n",
        "- _Mode collapse_ is when the generator learns to make samples that trick the discriminator but do not look like convincing samples. This could be because the generator model is too complex or the discriminator fails to learn the features of the training set.\n",
        "\n",
        "- _Oscillating loss_ is when the discriminator or generator's loss begins to diverge and oscillate wildly, instead of converging.\n",
        "\n",
        "It is particularly tricky to train GANs because the loss of the generator is not necessarily informative about its performance."
      ]
    },
    {
      "cell_type": "code",
      "metadata": {
        "id": "TBR5NtFR7Mvt",
        "colab_type": "code",
        "colab": {}
      },
      "source": [
        "gan.train(X_train, batch_size=64, epochs=12000, checkpoint_path=checkpoint_path,\n",
        "          save_every_n_epochs=100, print_every_n_epochs=10, initial_epoch=11000)"
      ],
      "execution_count": 0,
      "outputs": []
    },
    {
      "cell_type": "markdown",
      "metadata": {
        "id": "S1L1pIqOi5fq",
        "colab_type": "text"
      },
      "source": [
        "## Analyzing the Results\n",
        "\n",
        "Below are a plot of some of the original images in the Quick, Draw! dataset that we used to train the model. We see the drawings mostly have the same general structure."
      ]
    },
    {
      "cell_type": "code",
      "metadata": {
        "id": "SHTAnkhHvJfx",
        "colab_type": "code",
        "outputId": "d79e78ba-b95e-49c2-989e-fac651b4267c",
        "colab": {
          "base_uri": "https://localhost:8080/",
          "height": 575
        }
      },
      "source": [
        "import matplotlib.pyplot as plt\n",
        "\n",
        "n_to_show = 20\n",
        "fig = plt.figure(figsize=(15, 10))\n",
        "\n",
        "for i in range(n_to_show):\n",
        "  ax = fig.add_subplot(4, n_to_show / 4, i + 1)\n",
        "  ax.axis('off')\n",
        "  idx = np.random.randint(0, len(X_train))\n",
        "  ax.imshow(X_train[idx].squeeze(), cmap='gray')"
      ],
      "execution_count": 0,
      "outputs": [
        {
          "output_type": "display_data",
          "data": {
            "image/png": "[encoded data removed]",
            "text/plain": [
              "<Figure size 1080x720 with 20 Axes>"
            ]
          },
          "metadata": {
            "tags": []
          }
        }
      ]
    },
    {
      "cell_type": "markdown",
      "metadata": {
        "id": "aAaBG3HFjDKp",
        "colab_type": "text"
      },
      "source": [
        "Below are some of the model's generated \"drawings\" of camels. We see that the model was able to mostly learn the structure of the camel drawings we used to train the model."
      ]
    },
    {
      "cell_type": "code",
      "metadata": {
        "id": "aEKP34e8tRj0",
        "colab_type": "code",
        "outputId": "8bbb5640-af5f-46f3-f093-63ec74c3be0c",
        "colab": {
          "base_uri": "https://localhost:8080/",
          "height": 575
        }
      },
      "source": [
        "fig = plt.figure(figsize=(15, 10))\n",
        "\n",
        "for i in range(n_to_show):\n",
        "  ax = fig.add_subplot(4, n_to_show / 4,  i + 1)\n",
        "  ax.axis('off')\n",
        "  ax.imshow(\n",
        "      gan.generator.predict(np.random.normal(size=(1,gan.z_dim))).squeeze(),\n",
        "      cmap='gray')"
      ],
      "execution_count": 7,
      "outputs": [
        {
          "output_type": "display_data",
          "data": {
            "image/png": "[encoded data removed]",
            "text/plain": [
              "<Figure size 1080x720 with 20 Axes>"
            ]
          },
          "metadata": {
            "tags": []
          }
        }
      ]
    }
  ]
}