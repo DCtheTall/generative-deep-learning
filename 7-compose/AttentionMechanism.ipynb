{
  "nbformat": 4,
  "nbformat_minor": 0,
  "metadata": {
    "colab": {
      "name": "AttentionMechanism.ipynb",
      "provenance": [],
      "collapsed_sections": []
    },
    "kernelspec": {
      "name": "python3",
      "display_name": "Python 3"
    }
  },
  "cells": [
    {
      "cell_type": "markdown",
      "metadata": {
        "id": "BVz5O5HejVgt",
        "colab_type": "text"
      },
      "source": [
        "# Chapter 7: Compose\n",
        "\n",
        "In this notebook, we will be using a stacked LSTM network with an _attenion mechanism_ to generate new music.\n",
        "\n",
        "Attention mechanisms are a technique originally used for machine translation. In a normal encoder-decoder network, we encode input sequences as a single context vector. This can be a bottleneck for how much information a model can retain about the text. Attention mechanics provide a solution to this problem by replacing a single context vector with a weighted sum of the hidden states of the RNN cell during each timestep.\n",
        "\n",
        "Each hidden state is passed through a dense layer, known as the _alignment function_, with a softmax activation layer. We then multiply the hidden state at each timestep by the output of the dense layer and the result is summed over each step of the sequence.\n",
        "\n",
        "## Preparing the Training Data\n",
        "\n",
        "First we download the data for training the model."
      ]
    },
    {
      "cell_type": "code",
      "metadata": {
        "id": "UL_Bcgkzq_7D",
        "colab_type": "code",
        "colab": {}
      },
      "source": [
        "!mkdir -p data"
      ],
      "execution_count": 0,
      "outputs": []
    },
    {
      "cell_type": "code",
      "metadata": {
        "id": "jPAPX39QpOQZ",
        "colab_type": "code",
        "colab": {}
      },
      "source": [
        "import subprocess\n",
        "\n",
        "music_filenames = ['cs1-2all.mid',\n",
        "                   'cs5-1pre.mid',\n",
        "                   'cs4-1pre.mid',\n",
        "                   'cs3-5bou.mid',\n",
        "                   'cs1-4sar.mid',\n",
        "                   'cs2-5men.mid',\n",
        "                   'cs3-3cou.mid',\n",
        "                   'cs2-3cou.mid',\n",
        "                   'cs1-6gig.mid',\n",
        "                   'cs6-4sar.mid',\n",
        "                   'cs4-5bou.mid',\n",
        "                   'cs4-3cou.mid',\n",
        "                   'cs5-3cou.mid',\n",
        "                   'cs6-5gav.mid',\n",
        "                   'cs6-6gig.mid',\n",
        "                   'cs2-1pre.mid',\n",
        "                   'cs3-1pre.mid',\n",
        "                   'cs3-6gig.mid',\n",
        "                   'cs2-6gig.mid',\n",
        "                   'cs2-4sar.mid',\n",
        "                   'cs3-4sar.mid',\n",
        "                   'cs1-5men.mid',\n",
        "                   'cs1-3cou.mid',\n",
        "                   'cs6-1pre.mid',\n",
        "                   'cs2-2all.mid',\n",
        "                   'cs3-2all.mid',\n",
        "                   'cs1-1pre.mid',\n",
        "                   'cs5-2all.mid',\n",
        "                   'cs4-2all.mid',\n",
        "                   'cs5-5gav.mid',\n",
        "                   'cs4-6gig.mid',\n",
        "                   'cs5-6gig.mid',\n",
        "                   'cs5-4sar.mid',\n",
        "                   'cs4-4sar.mid',\n",
        "                   'cs6-3cou.mid']\n",
        "url_prefix = 'http://www.jsbach.net/midi/'\n",
        "data_dir = 'data/'"
      ],
      "execution_count": 0,
      "outputs": []
    },
    {
      "cell_type": "code",
      "metadata": {
        "id": "YCQDbAAP0Kwl",
        "colab_type": "code",
        "colab": {
          "base_uri": "https://localhost:8080/",
          "height": 612
        },
        "outputId": "db10d3f5-ab90-4e2a-ab2c-25e868923163"
      },
      "source": [
        "for fname in music_filenames:\n",
        "  print('Downloading ', fname)\n",
        "  subprocess.call(['wget', url_prefix + fname])\n",
        "  subprocess.call(['mv', fname, data_dir])"
      ],
      "execution_count": 4,
      "outputs": [
        {
          "output_type": "stream",
          "text": [
            "Downloading  cs1-2all.mid\n",
            "Downloading  cs5-1pre.mid\n",
            "Downloading  cs4-1pre.mid\n",
            "Downloading  cs3-5bou.mid\n",
            "Downloading  cs1-4sar.mid\n",
            "Downloading  cs2-5men.mid\n",
            "Downloading  cs3-3cou.mid\n",
            "Downloading  cs2-3cou.mid\n",
            "Downloading  cs1-6gig.mid\n",
            "Downloading  cs6-4sar.mid\n",
            "Downloading  cs4-5bou.mid\n",
            "Downloading  cs4-3cou.mid\n",
            "Downloading  cs5-3cou.mid\n",
            "Downloading  cs6-5gav.mid\n",
            "Downloading  cs6-6gig.mid\n",
            "Downloading  cs2-1pre.mid\n",
            "Downloading  cs3-1pre.mid\n",
            "Downloading  cs3-6gig.mid\n",
            "Downloading  cs2-6gig.mid\n",
            "Downloading  cs2-4sar.mid\n",
            "Downloading  cs3-4sar.mid\n",
            "Downloading  cs1-5men.mid\n",
            "Downloading  cs1-3cou.mid\n",
            "Downloading  cs6-1pre.mid\n",
            "Downloading  cs2-2all.mid\n",
            "Downloading  cs3-2all.mid\n",
            "Downloading  cs1-1pre.mid\n",
            "Downloading  cs5-2all.mid\n",
            "Downloading  cs4-2all.mid\n",
            "Downloading  cs5-5gav.mid\n",
            "Downloading  cs4-6gig.mid\n",
            "Downloading  cs5-6gig.mid\n",
            "Downloading  cs5-4sar.mid\n",
            "Downloading  cs4-4sar.mid\n",
            "Downloading  cs6-3cou.mid\n"
          ],
          "name": "stdout"
        }
      ]
    },
    {
      "cell_type": "markdown",
      "metadata": {
        "id": "pUvyRq2WwX_u",
        "colab_type": "text"
      },
      "source": [
        "Then we parse each file into a list of notes and durations."
      ]
    },
    {
      "cell_type": "code",
      "metadata": {
        "id": "elU0aum4ri7L",
        "colab_type": "code",
        "colab": {
          "base_uri": "https://localhost:8080/",
          "height": 612
        },
        "outputId": "4d79c4fa-0d33-4fd4-9070-841c86197d76"
      },
      "source": [
        "from music21 import converter, chord, note\n",
        "\n",
        "notes = []\n",
        "durations = []\n",
        "\n",
        "for fname in music_filenames:\n",
        "  print('Parsing ', fname)\n",
        "  original_score = converter.parse(data_dir + fname).chordify()\n",
        "  for el in original_score.flat:\n",
        "    if isinstance(el, chord.Chord):\n",
        "      notes.append('.'.join(n.nameWithOctave for n in el.pitches))\n",
        "    elif isinstance(el, note.Note):\n",
        "      notes.append(str(el.name) if el.isRest\n",
        "                   else notes.append(el.nameWithOctave))\n",
        "        \n",
        "    durations.append(el.duration.quarterLength)"
      ],
      "execution_count": 5,
      "outputs": [
        {
          "output_type": "stream",
          "text": [
            "Parsing  cs1-2all.mid\n",
            "Parsing  cs5-1pre.mid\n",
            "Parsing  cs4-1pre.mid\n",
            "Parsing  cs3-5bou.mid\n",
            "Parsing  cs1-4sar.mid\n",
            "Parsing  cs2-5men.mid\n",
            "Parsing  cs3-3cou.mid\n",
            "Parsing  cs2-3cou.mid\n",
            "Parsing  cs1-6gig.mid\n",
            "Parsing  cs6-4sar.mid\n",
            "Parsing  cs4-5bou.mid\n",
            "Parsing  cs4-3cou.mid\n",
            "Parsing  cs5-3cou.mid\n",
            "Parsing  cs6-5gav.mid\n",
            "Parsing  cs6-6gig.mid\n",
            "Parsing  cs2-1pre.mid\n",
            "Parsing  cs3-1pre.mid\n",
            "Parsing  cs3-6gig.mid\n",
            "Parsing  cs2-6gig.mid\n",
            "Parsing  cs2-4sar.mid\n",
            "Parsing  cs3-4sar.mid\n",
            "Parsing  cs1-5men.mid\n",
            "Parsing  cs1-3cou.mid\n",
            "Parsing  cs6-1pre.mid\n",
            "Parsing  cs2-2all.mid\n",
            "Parsing  cs3-2all.mid\n",
            "Parsing  cs1-1pre.mid\n",
            "Parsing  cs5-2all.mid\n",
            "Parsing  cs4-2all.mid\n",
            "Parsing  cs5-5gav.mid\n",
            "Parsing  cs4-6gig.mid\n",
            "Parsing  cs5-6gig.mid\n",
            "Parsing  cs5-4sar.mid\n",
            "Parsing  cs4-4sar.mid\n",
            "Parsing  cs6-3cou.mid\n"
          ],
          "name": "stdout"
        }
      ]
    },
    {
      "cell_type": "code",
      "metadata": {
        "id": "Y8ZXdE3gw_dj",
        "colab_type": "code",
        "colab": {
          "base_uri": "https://localhost:8080/",
          "height": 34
        },
        "outputId": "e02b298f-2a0c-40e2-b92d-ea76994e4534"
      },
      "source": [
        "notes[:10]"
      ],
      "execution_count": 6,
      "outputs": [
        {
          "output_type": "execute_result",
          "data": {
            "text/plain": [
              "['B3', 'G2.D3.B3', 'B3', 'A3', 'G3', 'F#3', 'G3', 'D3', 'E3', 'F#3']"
            ]
          },
          "metadata": {
            "tags": []
          },
          "execution_count": 6
        }
      ]
    },
    {
      "cell_type": "code",
      "metadata": {
        "id": "w5Sr1BwJxA2i",
        "colab_type": "code",
        "colab": {
          "base_uri": "https://localhost:8080/",
          "height": 34
        },
        "outputId": "f1036630-493f-4d36-8af8-db395c579be8"
      },
      "source": [
        "durations[:10]"
      ],
      "execution_count": 7,
      "outputs": [
        {
          "output_type": "execute_result",
          "data": {
            "text/plain": [
              "[0.0, 0.0, 0.0, 0.0, 3.75, 0.0, 0.25, 1.0, 0.25, 0.25]"
            ]
          },
          "metadata": {
            "tags": []
          },
          "execution_count": 7
        }
      ]
    },
    {
      "cell_type": "code",
      "metadata": {
        "id": "XX52cSK_uof3",
        "colab_type": "code",
        "colab": {}
      },
      "source": [
        "def get_distinct(elems):\n",
        "  \"\"\"Get all distinct elements in a list, sorted.\"\"\"\n",
        "  result = sorted(set(elems))\n",
        "  return result, len(result)\n",
        "\n",
        "def create_lookup_tables(elems):\n",
        "  \"\"\"Generate tokenization lookup table (and inverse table).\"\"\"\n",
        "  return ({e: i for i, e in enumerate(elems)},\n",
        "          {i: e for i, e in enumerate(elems)})"
      ],
      "execution_count": 0,
      "outputs": []
    },
    {
      "cell_type": "code",
      "metadata": {
        "id": "dtJe_M6gu_Fa",
        "colab_type": "code",
        "colab": {}
      },
      "source": [
        "note_names, n_notes = get_distinct(notes)\n",
        "duration_names, n_durations = get_distinct(durations)\n",
        "\n",
        "note_to_int, int_to_note = create_lookup_tables(note_names)\n",
        "duration_to_int, int_to_duration = create_lookup_tables(duration_names)"
      ],
      "execution_count": 0,
      "outputs": []
    },
    {
      "cell_type": "code",
      "metadata": {
        "id": "5szVF4m6wL5j",
        "colab_type": "code",
        "colab": {}
      },
      "source": [
        "%tensorflow_version 1.x\n",
        "from keras.utils import np_utils\n",
        "import numpy as np\n",
        "\n",
        "SEQUENCE_LENGTH = 32\n",
        "\n",
        "X_notes, X_durations = [], []\n",
        "y_notes, y_durations = [], []\n",
        "\n",
        "for i in range(len(notes) - SEQUENCE_LENGTH):\n",
        "  notes_seq_out = notes[i + SEQUENCE_LENGTH]\n",
        "  durations_seq_out = durations[i + SEQUENCE_LENGTH]\n",
        "  \n",
        "  X_notes.append([note_to_int[n]\n",
        "                  for n in notes[i:i + SEQUENCE_LENGTH]])\n",
        "  X_durations.append([duration_to_int[d]\n",
        "                      for d in durations[i:i + SEQUENCE_LENGTH]])\n",
        "  \n",
        "  y_notes.append(note_to_int[notes[i + SEQUENCE_LENGTH]])\n",
        "  y_durations.append(duration_to_int[durations[i + SEQUENCE_LENGTH]])\n",
        "\n",
        "n_patterns = len(X_notes)\n",
        "\n",
        "X_notes = np.reshape(X_notes, (n_patterns, SEQUENCE_LENGTH))\n",
        "X_durations = np.reshape(X_durations, (n_patterns, SEQUENCE_LENGTH))\n",
        "X_train = [X_notes, X_durations]\n",
        "\n",
        "y_notes = np_utils.to_categorical(y_notes, num_classes=n_notes)\n",
        "y_durations = np_utils.to_categorical(y_durations, num_classes=n_durations)\n",
        "y_train = [y_notes, y_durations]"
      ],
      "execution_count": 0,
      "outputs": []
    },
    {
      "cell_type": "code",
      "metadata": {
        "id": "MLUxLpEy2SPN",
        "colab_type": "code",
        "colab": {
          "base_uri": "https://localhost:8080/",
          "height": 68
        },
        "outputId": "1486545c-1302-4f23-e912-9182a757f044"
      },
      "source": [
        "X_train[0][0]"
      ],
      "execution_count": 15,
      "outputs": [
        {
          "output_type": "execute_result",
          "data": {
            "text/plain": [
              "array([ 77, 340,  77,  27, 371, 260, 371, 168, 237, 260, 371,  27,  77,\n",
              "       144, 196,  77, 371, 260, 371, 237, 168, 124,  61, 124, 168, 237,\n",
              "       260, 371,  27,  77, 144,  27])"
            ]
          },
          "metadata": {
            "tags": []
          },
          "execution_count": 15
        }
      ]
    },
    {
      "cell_type": "code",
      "metadata": {
        "id": "9AOSvoSF2YO-",
        "colab_type": "code",
        "colab": {
          "base_uri": "https://localhost:8080/",
          "height": 51
        },
        "outputId": "82ce6700-faf9-4acf-e3fa-4cb870e5b9ad"
      },
      "source": [
        "X_train[1][0]"
      ],
      "execution_count": 16,
      "outputs": [
        {
          "output_type": "execute_result",
          "data": {
            "text/plain": [
              "array([ 0,  0,  0,  0, 20,  0,  3,  8,  3,  3,  3,  3,  3,  3,  3,  3,  3,\n",
              "        3,  3,  3,  3,  3,  3,  3,  3,  3,  3,  3,  3,  3,  3,  3])"
            ]
          },
          "metadata": {
            "tags": []
          },
          "execution_count": 16
        }
      ]
    },
    {
      "cell_type": "code",
      "metadata": {
        "id": "8_bhvZtb2ctA",
        "colab_type": "code",
        "colab": {
          "base_uri": "https://localhost:8080/",
          "height": 408
        },
        "outputId": "7b5264c2-2e60-4682-cc8e-4ee12df3fb51"
      },
      "source": [
        "y_train[0][0]"
      ],
      "execution_count": 17,
      "outputs": [
        {
          "output_type": "execute_result",
          "data": {
            "text/plain": [
              "array([0., 0., 0., 0., 0., 0., 0., 0., 0., 0., 0., 0., 0., 0., 0., 0., 0.,\n",
              "       0., 0., 0., 0., 0., 0., 0., 0., 0., 0., 0., 0., 0., 0., 0., 0., 0.,\n",
              "       0., 0., 0., 0., 0., 0., 0., 0., 0., 0., 0., 0., 0., 0., 0., 0., 0.,\n",
              "       0., 0., 0., 0., 0., 0., 0., 0., 0., 0., 0., 0., 0., 0., 0., 0., 0.,\n",
              "       0., 0., 0., 0., 0., 0., 0., 0., 0., 0., 0., 0., 0., 0., 0., 0., 0.,\n",
              "       0., 0., 0., 0., 0., 0., 0., 0., 0., 0., 0., 0., 0., 0., 0., 0., 0.,\n",
              "       0., 0., 0., 0., 0., 0., 0., 0., 0., 0., 0., 0., 0., 0., 0., 0., 0.,\n",
              "       0., 0., 0., 0., 0., 0., 0., 0., 0., 0., 0., 0., 0., 0., 0., 0., 0.,\n",
              "       0., 0., 0., 0., 0., 0., 0., 0., 0., 0., 0., 0., 0., 0., 0., 0., 0.,\n",
              "       0., 0., 0., 0., 0., 0., 0., 0., 0., 0., 0., 0., 0., 0., 0., 0., 0.,\n",
              "       0., 0., 0., 0., 0., 0., 0., 0., 0., 0., 0., 0., 0., 0., 0., 0., 0.,\n",
              "       0., 0., 0., 0., 0., 0., 0., 0., 0., 0., 0., 0., 0., 0., 0., 0., 0.,\n",
              "       0., 0., 0., 0., 0., 0., 0., 0., 0., 0., 0., 0., 0., 0., 0., 0., 0.,\n",
              "       0., 0., 0., 0., 0., 0., 0., 0., 0., 0., 0., 0., 0., 0., 0., 0., 0.,\n",
              "       0., 0., 0., 0., 0., 0., 0., 0., 0., 0., 0., 0., 0., 0., 0., 0., 0.,\n",
              "       0., 0., 0., 0., 0., 0., 0., 0., 0., 0., 0., 0., 0., 0., 0., 0., 0.,\n",
              "       0., 0., 0., 0., 0., 0., 0., 0., 0., 0., 0., 0., 0., 0., 0., 0., 0.,\n",
              "       0., 0., 0., 0., 0., 0., 0., 0., 0., 0., 0., 0., 0., 0., 0., 0., 0.,\n",
              "       0., 0., 0., 0., 0., 0., 0., 0., 0., 0., 0., 0., 0., 0., 0., 0., 0.,\n",
              "       0., 0., 0., 0., 0., 0., 0., 0., 0., 0., 0., 0., 0., 0., 0., 0., 0.,\n",
              "       0., 0., 0., 0., 0., 0., 0., 0., 0., 0., 0., 0., 0., 0., 0., 0., 0.,\n",
              "       0., 0., 0., 0., 0., 0., 0., 0., 0., 0., 0., 0., 0., 0., 1., 0., 0.,\n",
              "       0., 0., 0., 0., 0., 0., 0., 0., 0., 0., 0., 0.], dtype=float32)"
            ]
          },
          "metadata": {
            "tags": []
          },
          "execution_count": 17
        }
      ]
    },
    {
      "cell_type": "code",
      "metadata": {
        "id": "i4GeHtIU2f4s",
        "colab_type": "code",
        "colab": {
          "base_uri": "https://localhost:8080/",
          "height": 51
        },
        "outputId": "6059c366-d5d1-4a0b-e3d2-09f0e069c6a4"
      },
      "source": [
        "y_train[1][0]"
      ],
      "execution_count": 18,
      "outputs": [
        {
          "output_type": "execute_result",
          "data": {
            "text/plain": [
              "array([0., 0., 0., 1., 0., 0., 0., 0., 0., 0., 0., 0., 0., 0., 0., 0., 0.,\n",
              "       0., 0., 0., 0., 0., 0.], dtype=float32)"
            ]
          },
          "metadata": {
            "tags": []
          },
          "execution_count": 18
        }
      ]
    }
  ]
}