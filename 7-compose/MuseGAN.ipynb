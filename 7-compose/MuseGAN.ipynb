{
  "nbformat": 4,
  "nbformat_minor": 0,
  "metadata": {
    "colab": {
      "name": "MuseGAN.ipynb",
      "provenance": [],
      "collapsed_sections": [],
      "toc_visible": true,
      "machine_shape": "hm"
    },
    "kernelspec": {
      "name": "python3",
      "display_name": "Python 3"
    },
    "accelerator": "GPU"
  },
  "cells": [
    {
      "cell_type": "markdown",
      "metadata": {
        "id": "aABRGKeFs1Qg",
        "colab_type": "text"
      },
      "source": [
        "# Chapter 7: Compose\n",
        "\n",
        "## MuseGAN\n",
        "\n",
        "_MuseGAN_ is a generative machine learning model capable of generating new samples of _multiphonic_ music, i.e. it is capable of composing music with multiple tracks. This is in contrast to the LSTM with an attension mechanism in `AttentionMechanism.ipynb`, which can only generate _monophonic_ music.\n",
        "\n",
        "MuseGAN, which was introduced in [this paper](https://arxiv.org/abs/1709.06298), like other GANs, consists of a pair of convolutional neural networks, a generator and a critic. The MuseGAN we are building will be generating two new bars of choral music, using music composed by Bach for training.\n",
        "\n",
        "### MuseGAN Generator\n",
        "\n",
        "### MuseGAN Critic\n",
        "\n",
        "## Data Preparation\n",
        "\n",
        "### Downloading the Data\n",
        "\n",
        "Here I download the training data from a [this GitHub repository](https://github.com/czhuang/JSB-Chorales-dataset). For this repository I will use a fork of the repository at the time that I am writing this notebook."
      ]
    },
    {
      "cell_type": "code",
      "metadata": {
        "id": "3snFlKcsv_JQ",
        "colab_type": "code",
        "outputId": "7133a5c9-8a2b-4a8e-c564-cae70e64c62c",
        "colab": {
          "base_uri": "https://localhost:8080/",
          "height": 85
        }
      },
      "source": [
        "!git clone https://github.com/DCtheTall/JSB-Chorales-dataset"
      ],
      "execution_count": 1,
      "outputs": [
        {
          "output_type": "stream",
          "text": [
            "Cloning into 'JSB-Chorales-dataset'...\n",
            "remote: Enumerating objects: 36, done.\u001b[K\n",
            "remote: Total 36 (delta 0), reused 0 (delta 0), pack-reused 36\u001b[K\n",
            "Unpacking objects: 100% (36/36), done.\n"
          ],
          "name": "stdout"
        }
      ]
    },
    {
      "cell_type": "markdown",
      "metadata": {
        "id": "7I4YqmDLjAUr",
        "colab_type": "text"
      },
      "source": [
        "### Preprocessing the Data\n",
        "\n",
        "The function below outputs the raw data, the data as a 4D tensor in the shape `[n_songs, n_bars, n_steps_per_bar, n_tracks]`. We then one hot encode the data into a 5D tensor of the shape `[n_songs, n_bars, n_steps_per_bar, n_notes, n_tracks]`."
      ]
    },
    {
      "cell_type": "code",
      "metadata": {
        "id": "_2VDHx7Cxfhl",
        "colab_type": "code",
        "colab": {}
      },
      "source": [
        "import numpy as np\n",
        "\n",
        "def load_music(filename, n_bars, n_steps_per_bar):\n",
        "  \"\"\"Load the training data into memory and preprocess it.\"\"\"\n",
        "  with np.load(filename, encoding='bytes', allow_pickle=True) as f:\n",
        "    data = f['train']\n",
        "\n",
        "  data_ints = []\n",
        "  timesteps = n_bars * n_steps_per_bar\n",
        "  \n",
        "  for x in data:\n",
        "    counter = 0\n",
        "    while np.any(np.isnan(x[counter:(counter + 4)])):\n",
        "      counter += 4\n",
        "    if timesteps < x.shape[0]:\n",
        "      data_ints.append(x[counter:(counter + timesteps), :])\n",
        "\n",
        "  data_ints = np.array(data_ints)\n",
        "  n_songs, _, n_tracks = data_ints.shape\n",
        "  \n",
        "  data_ints = data_ints.reshape((n_songs, n_bars, n_steps_per_bar, n_tracks))\n",
        "\n",
        "  max_note = 83\n",
        "  where_nans = np.isnan(data_ints)\n",
        "  data_ints[where_nans] = max_note + 1\n",
        "  max_note += 1\n",
        "\n",
        "  data_ints = data_ints.astype(np.int)\n",
        "  n_classes = max_note + 1\n",
        "\n",
        "  data_binary = np.eye(n_classes)[data_ints]  # One-hot encode the pitches\n",
        "  data_binary[data_binary == 0] = -1  # Replace 0s with -1s.\n",
        "  # Remove the index indicating the last possible pitch. For that pitch, we\n",
        "  # can just use a row of all -1's.\n",
        "  data_binary = np.delete(data_binary, max_note, -1)\n",
        "  data_binary = data_binary.transpose((0, 1, 2, 4, 3))\n",
        "\n",
        "  return np.squeeze(data_binary), data_ints, data"
      ],
      "execution_count": 0,
      "outputs": []
    },
    {
      "cell_type": "code",
      "metadata": {
        "id": "tcWXjnHHHYYZ",
        "colab_type": "code",
        "colab": {}
      },
      "source": [
        "N_BARS = 2\n",
        "N_STEPS_PER_BAR = 16\n",
        "\n",
        "data_binary, data_ints, data = load_music(\n",
        "    'JSB-Chorales-dataset/Jsb16thSeparated.npz', N_BARS, N_STEPS_PER_BAR)"
      ],
      "execution_count": 0,
      "outputs": []
    },
    {
      "cell_type": "markdown",
      "metadata": {
        "id": "c0S4dPVYU1c7",
        "colab_type": "text"
      },
      "source": [
        "### Playing the Training Data Music\n",
        "\n",
        "Let's play some of the training music to get a sense of the style the model is trying to learn."
      ]
    },
    {
      "cell_type": "code",
      "metadata": {
        "id": "qSw0FS2QUglW",
        "colab_type": "code",
        "colab": {}
      },
      "source": [
        "from music21 import stream, tempo, note, duration, tempo, instrument\n",
        "import os\n",
        "\n",
        "\n",
        "def binarise_generator_output(output):\n",
        "  \"\"\"Output has the shape [batch_size, bars, steps, pitches, tracks].\"\"\"\n",
        "  return np.argmax(output, axis=3)\n",
        "\n",
        "\n",
        "def notes_to_midi(output, outdir):\n",
        "  \"\"\"Writes output with shape [batch_size, bars, steps, pitches, tracks] to a midi files.\"\"\"\n",
        "  batch_size, n_bars, n_steps, n_pitches, n_tracks = output.shape\n",
        "  for idx in range(batch_size):\n",
        "    max_pitches = binarise_generator_output(output)\n",
        "    midi_note_score = max_pitches[idx].reshape([n_bars * n_steps, n_tracks])\n",
        "    parts = stream.Stream()\n",
        "    parts.append(tempo.MetronomeMark(number=80))\n",
        "    for track in range(n_tracks):\n",
        "      last_x = int(midi_note_score[:,track][0])\n",
        "      s = stream.Part()\n",
        "      s.append([instrument.Soprano(),\n",
        "                instrument.Tenor(),\n",
        "                instrument.Baritone(),\n",
        "                instrument.Bass()][track])\n",
        "      dur = 0.0\n",
        "\n",
        "      for i, x in enumerate(midi_note_score[:, track]):\n",
        "        x = int(x)\n",
        "        if (x != last_x or i % 4 == 0) and i > 0:\n",
        "          n = note.Note(last_x)\n",
        "          n.duration = duration.Duration(dur)\n",
        "          s.append(n)\n",
        "          dur = 0\n",
        "        last_x = x\n",
        "        dur += 0.25\n",
        "      \n",
        "      n = note.Note(last_x)\n",
        "      n.duration = duration.Duration(dur)\n",
        "      s.append(n)\n",
        "\n",
        "      parts.append(s)\n",
        "    parts.write('midi', fp=os.path.join(outdir, '{}.midi'.format(idx)))"
      ],
      "execution_count": 0,
      "outputs": []
    },
    {
      "cell_type": "code",
      "metadata": {
        "id": "geOo-PcsZU2n",
        "colab_type": "code",
        "colab": {}
      },
      "source": [
        "notes_to_midi(data_binary[:3], '.')"
      ],
      "execution_count": 0,
      "outputs": []
    },
    {
      "cell_type": "markdown",
      "metadata": {
        "id": "o1_OZepuaaKo",
        "colab_type": "text"
      },
      "source": [
        "Convert the music into a .wav file using FluidSynth."
      ]
    },
    {
      "cell_type": "code",
      "metadata": {
        "id": "QH5q4qLsaKP7",
        "colab_type": "code",
        "colab": {}
      },
      "source": [
        "!apt install fluidsynth\n",
        "!cp /usr/share/sounds/sf2/FluidR3_GM.sf2 ./font.sf2"
      ],
      "execution_count": 0,
      "outputs": []
    },
    {
      "cell_type": "code",
      "metadata": {
        "id": "GQ7zIBR0a6GH",
        "colab_type": "code",
        "outputId": "00d0ffbc-7985-4de5-ca6a-265568753dcf",
        "colab": {
          "base_uri": "https://localhost:8080/",
          "height": 119
        }
      },
      "source": [
        "!fluidsynth -ni font.sf2 0.midi -F 0.wav -r 1000"
      ],
      "execution_count": 207,
      "outputs": [
        {
          "output_type": "stream",
          "text": [
            "FluidSynth version 1.1.9\n",
            "Copyright (C) 2000-2018 Peter Hanappe and others.\n",
            "Distributed under the LGPL license.\n",
            "SoundFont(R) is a registered trademark of E-mu Systems, Inc.\n",
            "\n",
            "Rendering audio to file '0.wav'..\n"
          ],
          "name": "stdout"
        }
      ]
    },
    {
      "cell_type": "code",
      "metadata": {
        "id": "ljJ_JSUebGwe",
        "colab_type": "code",
        "outputId": "98a1a956-7343-4d59-eab1-6a7a8a064e42",
        "colab": {
          "base_uri": "https://localhost:8080/",
          "height": 119
        }
      },
      "source": [
        "!fluidsynth -ni font.sf2 1.midi -F 1.wav -r 1000"
      ],
      "execution_count": 208,
      "outputs": [
        {
          "output_type": "stream",
          "text": [
            "FluidSynth version 1.1.9\n",
            "Copyright (C) 2000-2018 Peter Hanappe and others.\n",
            "Distributed under the LGPL license.\n",
            "SoundFont(R) is a registered trademark of E-mu Systems, Inc.\n",
            "\n",
            "Rendering audio to file '1.wav'..\n"
          ],
          "name": "stdout"
        }
      ]
    },
    {
      "cell_type": "code",
      "metadata": {
        "id": "SRvKUp-ybKfw",
        "colab_type": "code",
        "outputId": "00a47b15-1afe-4d06-cec5-7cdd6af34469",
        "colab": {
          "base_uri": "https://localhost:8080/",
          "height": 119
        }
      },
      "source": [
        "!fluidsynth -ni font.sf2 2.midi -F 2.wav -r 1000"
      ],
      "execution_count": 209,
      "outputs": [
        {
          "output_type": "stream",
          "text": [
            "FluidSynth version 1.1.9\n",
            "Copyright (C) 2000-2018 Peter Hanappe and others.\n",
            "Distributed under the LGPL license.\n",
            "SoundFont(R) is a registered trademark of E-mu Systems, Inc.\n",
            "\n",
            "Rendering audio to file '2.wav'..\n"
          ],
          "name": "stdout"
        }
      ]
    },
    {
      "cell_type": "code",
      "metadata": {
        "id": "Yn4eQrOwbCc6",
        "colab_type": "code",
        "colab": {}
      },
      "source": [
        "from IPython.display import Audio\n",
        "from scipy.io import wavfile\n",
        "\n",
        "rate, data = wavfile.read('0.wav')\n",
        "Audio(data.T, rate=rate, autoplay=True)"
      ],
      "execution_count": 0,
      "outputs": []
    },
    {
      "cell_type": "code",
      "metadata": {
        "id": "OK5M0m0dbM4R",
        "colab_type": "code",
        "colab": {}
      },
      "source": [
        "rate, data = wavfile.read('1.wav')\n",
        "Audio(data.T, rate=rate, autoplay=True)"
      ],
      "execution_count": 0,
      "outputs": []
    },
    {
      "cell_type": "code",
      "metadata": {
        "id": "cdWf9F8ObQ0i",
        "colab_type": "code",
        "colab": {}
      },
      "source": [
        "rate, data = wavfile.read('2.wav')\n",
        "Audio(data.T, rate=rate, autoplay=True)"
      ],
      "execution_count": 0,
      "outputs": []
    },
    {
      "cell_type": "markdown",
      "metadata": {
        "id": "-ZgCs_P4p1C3",
        "colab_type": "text"
      },
      "source": [
        "## Implementing MuseGAN\n",
        "\n",
        "Below is my implementation of MuseGAN based on the implementation in the book's official code repository with some minor modifications. For example, I added some more parameters to the critic model and I have the critic train on 10 batches for each batch we train the generator with."
      ]
    },
    {
      "cell_type": "code",
      "metadata": {
        "id": "dhvqOhiep01y",
        "colab_type": "code",
        "colab": {}
      },
      "source": [
        "%tensorflow_version 1.x\n",
        "from tensorflow.keras.layers import (Input, Conv2DTranspose, BatchNormalization,\n",
        "                                     Activation, LeakyReLU, Reshape, Lambda,\n",
        "                                     Dense, Concatenate, Conv3D, Flatten)\n",
        "from tensorflow.keras.models import Model\n",
        "from tensorflow.keras.initializers import RandomNormal\n",
        "import tensorflow.keras.backend as K\n",
        "from tensorflow.keras.optimizers import Adam, RMSprop\n",
        "import matplotlib.pyplot as plt\n",
        "\n",
        "\n",
        "def conv_t(x, filters, kernel_size, strides, padding, kernel_initializer,\n",
        "           batch_norm_momentum=None, activation='relu'):\n",
        "  \"\"\"Returns a convolutional transpose layer for the generator.\"\"\"\n",
        "  x = Conv2DTranspose(filters=filters, kernel_size=kernel_size, strides=strides,\n",
        "                      padding=padding, kernel_initializer=kernel_initializer)(x)\n",
        "  if batch_norm_momentum:\n",
        "    x = BatchNormalization(momentum=batch_norm_momentum)(x)\n",
        "  return LeakyReLU()(x) if activation == 'lrelu' else Activation(activation)(x)\n",
        "\n",
        "\n",
        "def TemporalNetwork(z_dim, n_bars, kernel_initializer, name):\n",
        "  \"\"\"Build a Temporal Network which generates n_bars vectors of shape z_dim.\"\"\"\n",
        "  input_layer = Input(shape=(z_dim,))\n",
        "  x = Reshape([1, 1, z_dim])(input_layer)\n",
        "  x = conv_t(x, filters=1024, kernel_size=(2, 1), strides=(1, 1),\n",
        "             activation='relu', batch_norm_momentum=0.9, padding='valid',\n",
        "             kernel_initializer=kernel_initializer)\n",
        "  x = conv_t(x, filters=z_dim, kernel_size=(n_bars - 1, 1), strides=(1, 1),\n",
        "             activation='relu', batch_norm_momentum=0.9, padding='valid',\n",
        "             kernel_initializer=kernel_initializer)\n",
        "  output_layer = Reshape([n_bars, z_dim])(x)\n",
        "  return Model(input_layer, output_layer, name=name)\n",
        "\n",
        "\n",
        "def BarGenerator(z_dim, n_steps_per_bar, n_pitches, kernel_initializer):\n",
        "  \"\"\"Bar Generator expands the time and pitch dimensions of the input.\"\"\"\n",
        "  input_layer = Input(shape=(4 * z_dim,))\n",
        "  x = Dense(1024)(input_layer)\n",
        "  x = BatchNormalization(momentum=0.9)(x)\n",
        "  x = Activation('relu')(x)\n",
        "  x = Reshape([2, 1, 512])(x)\n",
        "  x = conv_t(x, filters=512, kernel_size=(2, 1), strides=(2, 1), padding='same',\n",
        "             activation='relu', batch_norm_momentum=0.9,\n",
        "             kernel_initializer=kernel_initializer)\n",
        "  x = conv_t(x, filters=256, kernel_size=(2, 1), strides=(2, 1), padding='same',\n",
        "             activation='relu', batch_norm_momentum=0.9,\n",
        "             kernel_initializer=kernel_initializer)\n",
        "  x = conv_t(x, filters=256, kernel_size=(2, 1), strides=(2, 1), padding='same',\n",
        "             activation='relu', batch_norm_momentum=0.9,\n",
        "             kernel_initializer=kernel_initializer)\n",
        "  x = conv_t(x, filters=256, kernel_size=(1, 7), strides=(1, 7), padding='same',\n",
        "             activation='relu', batch_norm_momentum=0.9,\n",
        "             kernel_initializer=kernel_initializer)\n",
        "  x = conv_t(x, filters=1, kernel_size=(1, 12), strides=(1, 12),\n",
        "             padding='same', activation='tanh',\n",
        "             kernel_initializer=kernel_initializer)\n",
        "  output_layer = Reshape([1, n_steps_per_bar, n_pitches, 1])(x)\n",
        "  return Model(input_layer, output_layer)\n",
        "\n",
        "\n",
        "def conv(x, filters, kernel_size, strides, padding, kernel_initializer,\n",
        "         activation='relu'):\n",
        "  \"\"\"Creates a 3D convolutional layer for the critic network.\"\"\"\n",
        "  x = Conv3D(filters=filters, kernel_size=kernel_size, padding=padding,\n",
        "             kernel_initializer=kernel_initializer, strides=strides)(x)\n",
        "  return LeakyReLU()(x) if activation == 'lrelu' else Activation(activation)(x) \n",
        "\n",
        "\n",
        "def set_trainable(model, value):\n",
        "  \"\"\"Set a model to be trainable or freeze layer weights.\"\"\"\n",
        "  model.trainable = value\n",
        "  for l in model.layers:\n",
        "    l.trainable = value\n",
        "\n",
        "\n",
        "def wasserstein_loss(y_true, y_pred):\n",
        "  \"\"\"Wasserstein loss function.\"\"\"\n",
        "  return -K.mean(y_true * y_pred)\n",
        "\n",
        "\n",
        "def get_optimizer(optimizer_name, learning_rate):\n",
        "  \"\"\"Get an optimizer by name.\"\"\"\n",
        "  if optimizer_name == 'adam':\n",
        "    return Adam(lr=learning_rate, beta_1=0.5, beta_2=0.9)\n",
        "  if optimizer_name == 'rmsprop':\n",
        "    return RMSprop(lr=learning_rate)\n",
        "  return Adam(lr=learning_rate, beta_1=0.5, beta_2=0.9)\n",
        "\n",
        "\n",
        "class MuseGAN(object):\n",
        "  \"\"\"Implementation of MuseGAN with Keras and TensorFlow.\"\"\"\n",
        "\n",
        "  def __init__(self, z_dim, n_tracks, n_bars, n_steps_per_bar, n_pitches,\n",
        "               batch_size, optimizer, critic_learning_rate,\n",
        "               generator_learning_rate, grad_weight):\n",
        "    weight_init = RandomNormal(mean=0.0, stddev=0.02)\n",
        "\n",
        "    # Build the generator.\n",
        "\n",
        "    chords_input = Input(shape=(z_dim,), name='chords_input')\n",
        "    style_input = Input(shape=(z_dim,), name='style_input')\n",
        "    melody_input = Input(shape=(n_tracks, z_dim), name='melody_input')\n",
        "    groove_input = Input(shape=(n_tracks, z_dim), name='groove_input')\n",
        "\n",
        "    self.chords_temp_network = TemporalNetwork(z_dim, n_bars, weight_init,\n",
        "                                               'temporal_network')\n",
        "    # Ouput shape is [?, n_bars, z_dim]\n",
        "    chords_output = self.chords_temp_network(chords_input)\n",
        "\n",
        "    melody_temp_networks = [None] * n_tracks\n",
        "    # Output shape will be [n_tracks, ?, n_bars, z_dim]\n",
        "    melody_outputs = [None] * n_tracks\n",
        "    for track in range(n_tracks):\n",
        "      melody_temp_networks[track] = TemporalNetwork(z_dim, n_bars, weight_init,\n",
        "                                                    'melody_{}'.format(track))\n",
        "      temp_network_input = Lambda(lambda x: x[:, track, :])(melody_input)\n",
        "      melody_outputs[track] = melody_temp_networks[track](temp_network_input)\n",
        "\n",
        "    self.bar_gen = [None] * n_tracks\n",
        "    for track in range(n_tracks):\n",
        "      self.bar_gen[track] = BarGenerator(z_dim, n_steps_per_bar, n_pitches,\n",
        "                                         weight_init)\n",
        "    \n",
        "    # Output shape will be [n_bars, ?, 1, n_steps_per_bar, n_pitches, n_tracks]\n",
        "    bars_output = [None] * n_bars\n",
        "    for bar in range(n_bars):\n",
        "      track_output = [None] * n_tracks\n",
        "      c = Lambda(lambda x: x[:, bar, :])(chords_output)\n",
        "      s = style_input\n",
        "      for track in range(n_tracks):\n",
        "        m = Lambda(lambda x: x[:, bar, :])(melody_outputs[track])\n",
        "        g = Lambda(lambda x: x[:, track, :])(groove_input)\n",
        "        z_input = Concatenate(axis=1)([c, s, m, g])\n",
        "        track_output[track] = self.bar_gen[track](z_input)\n",
        "      bars_output[bar] = Concatenate(axis=-1)(track_output)\n",
        "    \n",
        "    generator_output = Concatenate(axis=1)(bars_output)\n",
        "    self.generator = Model(\n",
        "        [chords_input, style_input, melody_input, groove_input],\n",
        "        generator_output)\n",
        "    \n",
        "    # Build the critic.\n",
        "\n",
        "    critic_input = Input(shape=(n_bars, n_steps_per_bar, n_pitches, n_tracks))\n",
        "    x = critic_input\n",
        "    x = conv(x, filters=128, kernel_size=(2, 1, 1), strides=(1, 1, 1),\n",
        "             activation='lrelu', padding='valid',\n",
        "             kernel_initializer=weight_init)\n",
        "    x = conv(x, filters=128, kernel_size=(n_bars - 1, 1, 1), strides=(1, 1, 1),\n",
        "             activation='lrelu', padding='valid',\n",
        "             kernel_initializer=weight_init)\n",
        "    \n",
        "    x = conv(x, filters=128, kernel_size=(1, 1, 12), strides=(1, 1, 12),\n",
        "             activation='lrelu', padding='same', kernel_initializer=weight_init)\n",
        "    x = conv(x, filters=256, kernel_size=(1, 1, 7), strides=(1, 1, 7),\n",
        "             activation='lrelu', padding='same', kernel_initializer=weight_init)\n",
        "    x = conv(x, filters=256, kernel_size=(1, 2, 1), strides=(1, 2, 1),\n",
        "             activation='lrelu', padding='same', kernel_initializer=weight_init)\n",
        "    x = conv(x, filters=256, kernel_size=(1, 2, 1), strides=(1, 2, 1),\n",
        "             activation='lrelu', padding='same', kernel_initializer=weight_init)\n",
        "    x = conv(x, filters=256, kernel_size=(1, 4, 1), strides=(1, 2, 1),\n",
        "             activation='lrelu', padding='same', kernel_initializer=weight_init)\n",
        "    x = conv(x, filters=512, kernel_size=(1, 3, 1), strides=(1, 2, 1),\n",
        "             activation='lrelu', padding='same', kernel_initializer=weight_init)\n",
        "    \n",
        "    x = Flatten()(x)\n",
        "    x = Dense(1024, kernel_initializer=weight_init)(x)\n",
        "    x = LeakyReLU()(x)\n",
        "    critic_output = Dense(1, activation=None, kernel_initializer=weight_init)(x)\n",
        "\n",
        "    self.critic = Model(critic_input, critic_output)\n",
        "\n",
        "    # Build the computational graph for the critic.\n",
        "    set_trainable(self.generator, False)\n",
        "    set_trainable(self.critic, True)\n",
        "\n",
        "    real_img = Input(shape=(n_bars, n_steps_per_bar, n_pitches, n_tracks))\n",
        "    chords_input = Input(shape=(z_dim,))\n",
        "    style_input = Input(shape=(z_dim,))\n",
        "    melody_input = Input(shape=(n_tracks, z_dim))\n",
        "    groove_input = Input(shape=(n_tracks, z_dim))\n",
        "\n",
        "    fake_img = self.generator(\n",
        "        [chords_input, style_input, melody_input, groove_input])\n",
        "    \n",
        "    fake = self.critic(fake_img)\n",
        "    real = self.critic(real_img)\n",
        "\n",
        "    def interpolate_inputs(inputs):\n",
        "      alpha = K.random_uniform((batch_size, 1, 1, 1, 1))\n",
        "      return (alpha * inputs[0]) + ((1 - alpha) * inputs[1])\n",
        "\n",
        "    self.interpolated_img = Lambda(interpolate_inputs)([fake_img, real_img])\n",
        "    interpolated_pred = self.critic(self.interpolated_img)\n",
        "\n",
        "    self.critic_model = Model(inputs=[real_img, chords_input, style_input,\n",
        "                                      melody_input, groove_input],\n",
        "                              outputs=[real, fake, interpolated_pred])\n",
        "    self.critic_model.compile(\n",
        "        loss=[wasserstein_loss, wasserstein_loss, self.gradient_penalty_loss],\n",
        "        optimizer=get_optimizer(optimizer, critic_learning_rate),\n",
        "        loss_weights=[1, 1, grad_weight])\n",
        "    \n",
        "    # Build the computational graph for the generator.\n",
        "    set_trainable(self.generator, True)\n",
        "    set_trainable(self.critic, False)\n",
        "\n",
        "    chords_input = Input(shape=(z_dim,))\n",
        "    style_input = Input(shape=(z_dim,))\n",
        "    melody_input = Input(shape=(n_tracks, z_dim))\n",
        "    groove_input = Input(shape=(n_tracks, z_dim))\n",
        "\n",
        "    set_trainable(self.critic, True)\n",
        "\n",
        "    img = self.generator(\n",
        "        [chords_input, style_input, melody_input, groove_input])\n",
        "    model_output = self.critic(img)\n",
        "    self.model = Model(\n",
        "        [chords_input, style_input, melody_input, groove_input], model_output)\n",
        "    self.model.compile(loss=wasserstein_loss,\n",
        "                       optimizer=get_optimizer(\n",
        "                           optimizer, generator_learning_rate))\n",
        "    \n",
        "    self.z_dim = z_dim\n",
        "    self.n_tracks = n_tracks\n",
        "    self.batch_size = batch_size\n",
        "    self.n_bars = n_bars\n",
        "\n",
        "  def gradient_penalty_loss(self, y_true, y_pred):\n",
        "    \"\"\"Compute the GP loss using interpolations of real and fake images.\"\"\"\n",
        "    gradients = K.gradients(y_pred, self.interpolated_img)[0]\n",
        "    assert gradients is not None\n",
        "    gradients_sqr = K.square(gradients)\n",
        "    gradients_l2_norm = K.sqrt(\n",
        "        K.sum(gradients_sqr, axis=np.arange(1, len(gradients_sqr.shape))))\n",
        "    return K.mean(K.square(1 - gradients_l2_norm))\n",
        "\n",
        "  def train_critic(self, X_train):\n",
        "    \"\"\"Train the critic with a single training batch.\"\"\"\n",
        "    batch_size = self.batch_size\n",
        "    real = np.ones((batch_size, 1), dtype=np.float32)\n",
        "    fake = -np.ones((batch_size, 1), dtype=np.float32)\n",
        "    real_imgs = X_train[np.random.randint(0, X_train.shape[0], self.batch_size)]\n",
        "\n",
        "    chords_noise = np.random.normal(0, 1, (batch_size, self.z_dim))\n",
        "    style_noise = np.random.normal(0, 1, (batch_size, self.z_dim))\n",
        "    melody_noise = np.random.normal(\n",
        "        0, 1, (batch_size, self.n_tracks, self.z_dim))\n",
        "    groove_noise = np.random.normal(\n",
        "        0, 1, (batch_size, self.n_tracks, self.z_dim))\n",
        "    \n",
        "    return self.critic_model.train_on_batch(\n",
        "        [real_imgs, chords_noise, style_noise, melody_noise, groove_noise],\n",
        "        [real, fake, np.zeros((batch_size, 1), dtype=np.float32)])\n",
        "    \n",
        "  def train_generator(self):\n",
        "    \"\"\"Train the generator with a single training batch.\"\"\"\n",
        "    batch_size = self.batch_size\n",
        "    real = np.ones((batch_size, 1), dtype=np.float32)\n",
        "    chords_noise = np.random.normal(0, 1, (batch_size, self.z_dim))\n",
        "    style_noise = np.random.normal(0, 1, (batch_size, self.z_dim))\n",
        "    melody_noise = np.random.normal(\n",
        "        0, 1, (batch_size, self.n_tracks, self.z_dim))\n",
        "    groove_noise = np.random.normal(\n",
        "        0, 1, (batch_size, self.n_tracks, self.z_dim))\n",
        "    return self.model.train_on_batch(\n",
        "        [chords_noise, style_noise, melody_noise, groove_noise], real)\n",
        "    \n",
        "  def train(self, X_train, epochs, checkpoint_dir, save_every_n_epochs=1,\n",
        "            initial_epoch=0, n_critic=5):\n",
        "    \"\"\"Run the training loop.\"\"\"\n",
        "    if initial_epoch > 0:\n",
        "      self.model.load_weights(\n",
        "          os.path.join(checkpoint_dir, 'weights-{}.hdf5'.format(initial_epoch)))\n",
        "    for epoch in range(initial_epoch + 1, epochs + 1):\n",
        "      for _ in range(n_critic):\n",
        "        d_loss = self.train_critic(X_train)\n",
        "      g_loss = self.train_generator()\n",
        "      if epoch % save_every_n_epochs == 0:\n",
        "        print('Saving model weights after epoch: {}'.format(epoch))\n",
        "        print('D loss: (R {:.2f} F {:.2f} GP {:.2f}) G loss: {:.2f}'.format(\n",
        "            *d_loss, g_loss))\n",
        "        self.model.save_weights(checkpoint_dir + 'weights.hdf5')\n",
        "        self.model.save_weights(\n",
        "            checkpoint_dir + 'weights-{}.hdf5'.format(epoch))\n",
        "        \n",
        "  def draw_score(self, gen_score):\n",
        "    \"\"\"Draw the generated score as a sequence of pitches.\"\"\"\n",
        "    fig, axes = plt.subplots(ncols=len(gen_score) * self.n_bars,\n",
        "                             nrows=self.n_tracks,\n",
        "                             figsize=(12 * len(gen_score), 8),\n",
        "                             sharex=True, sharey=True)\n",
        "    fig.subplots_adjust(0, 0, 0.2, 1.5, 0, 0)\n",
        "    for idx, score in enumerate(gen_score):\n",
        "      for bar in range(self.n_bars):\n",
        "        for track in range(self.n_tracks):\n",
        "          if self.n_bars > 1:\n",
        "            axes[track, bar + (idx * self.n_bars)].imshow(\n",
        "                score[bar, :, :, track].transpose([1, 0]),\n",
        "                origin='lower', cmap='Greys', vmin=-1, vmax=1)\n",
        "          else:\n",
        "            axes[(idx * self.n_bars) + track].imshow(\n",
        "                score[bar, :, :, track].transpose([1, 0]),\n",
        "                origin='lower', cmap='Greys', vmin=-1, vmax=1)"
      ],
      "execution_count": 0,
      "outputs": []
    },
    {
      "cell_type": "code",
      "metadata": {
        "id": "5QsGwszeq4KD",
        "colab_type": "code",
        "colab": {}
      },
      "source": [
        "Z_DIM = 32\n",
        "N_TRACKS = 4\n",
        "N_PITCHES = 84\n",
        "BATCH_SIZE = 64\n",
        "LEARNING_RATE = 0.001\n",
        "\n",
        "gan = MuseGAN(z_dim=Z_DIM, \n",
        "              n_tracks=N_TRACKS,\n",
        "              n_bars=N_BARS,\n",
        "              n_steps_per_bar=N_STEPS_PER_BAR,\n",
        "              n_pitches=N_PITCHES,\n",
        "              batch_size=BATCH_SIZE,\n",
        "              optimizer='adam',\n",
        "              grad_weight=10,\n",
        "              critic_learning_rate=LEARNING_RATE,\n",
        "              generator_learning_rate=LEARNING_RATE)"
      ],
      "execution_count": 0,
      "outputs": []
    },
    {
      "cell_type": "code",
      "metadata": {
        "id": "tjO7Ekn4-rsN",
        "colab_type": "code",
        "outputId": "1ed63582-5bd1-4934-9d36-a07a68fdcda0",
        "colab": {
          "base_uri": "https://localhost:8080/",
          "height": 1000
        }
      },
      "source": [
        "gan.generator.summary()"
      ],
      "execution_count": 24,
      "outputs": [
        {
          "output_type": "stream",
          "text": [
            "Model: \"model_4\"\n",
            "__________________________________________________________________________________________________\n",
            "Layer (type)                    Output Shape         Param #     Connected to                     \n",
            "==================================================================================================\n",
            "melody_input (InputLayer)       [(None, 4, 32)]      0                                            \n",
            "__________________________________________________________________________________________________\n",
            "chords_input (InputLayer)       [(None, 32)]         0                                            \n",
            "__________________________________________________________________________________________________\n",
            "lambda (Lambda)                 (None, 32)           0           melody_input[0][0]               \n",
            "__________________________________________________________________________________________________\n",
            "lambda_1 (Lambda)               (None, 32)           0           melody_input[0][0]               \n",
            "__________________________________________________________________________________________________\n",
            "lambda_2 (Lambda)               (None, 32)           0           melody_input[0][0]               \n",
            "__________________________________________________________________________________________________\n",
            "lambda_3 (Lambda)               (None, 32)           0           melody_input[0][0]               \n",
            "__________________________________________________________________________________________________\n",
            "temporal_network (Model)        (None, 2, 32)        103584      chords_input[0][0]               \n",
            "__________________________________________________________________________________________________\n",
            "melody_0 (Model)                (None, 2, 32)        103584      lambda[0][0]                     \n",
            "__________________________________________________________________________________________________\n",
            "groove_input (InputLayer)       [(None, 4, 32)]      0                                            \n",
            "__________________________________________________________________________________________________\n",
            "melody_1 (Model)                (None, 2, 32)        103584      lambda_1[0][0]                   \n",
            "__________________________________________________________________________________________________\n",
            "melody_2 (Model)                (None, 2, 32)        103584      lambda_2[0][0]                   \n",
            "__________________________________________________________________________________________________\n",
            "melody_3 (Model)                (None, 2, 32)        103584      lambda_3[0][0]                   \n",
            "__________________________________________________________________________________________________\n",
            "lambda_4 (Lambda)               (None, 32)           0           temporal_network[1][0]           \n",
            "__________________________________________________________________________________________________\n",
            "style_input (InputLayer)        [(None, 32)]         0                                            \n",
            "__________________________________________________________________________________________________\n",
            "lambda_5 (Lambda)               (None, 32)           0           melody_0[1][0]                   \n",
            "__________________________________________________________________________________________________\n",
            "lambda_6 (Lambda)               (None, 32)           0           groove_input[0][0]               \n",
            "__________________________________________________________________________________________________\n",
            "lambda_7 (Lambda)               (None, 32)           0           melody_1[1][0]                   \n",
            "__________________________________________________________________________________________________\n",
            "lambda_8 (Lambda)               (None, 32)           0           groove_input[0][0]               \n",
            "__________________________________________________________________________________________________\n",
            "lambda_9 (Lambda)               (None, 32)           0           melody_2[1][0]                   \n",
            "__________________________________________________________________________________________________\n",
            "lambda_10 (Lambda)              (None, 32)           0           groove_input[0][0]               \n",
            "__________________________________________________________________________________________________\n",
            "lambda_11 (Lambda)              (None, 32)           0           melody_3[1][0]                   \n",
            "__________________________________________________________________________________________________\n",
            "lambda_12 (Lambda)              (None, 32)           0           groove_input[0][0]               \n",
            "__________________________________________________________________________________________________\n",
            "lambda_13 (Lambda)              (None, 32)           0           temporal_network[1][0]           \n",
            "__________________________________________________________________________________________________\n",
            "lambda_14 (Lambda)              (None, 32)           0           melody_0[1][0]                   \n",
            "__________________________________________________________________________________________________\n",
            "lambda_15 (Lambda)              (None, 32)           0           groove_input[0][0]               \n",
            "__________________________________________________________________________________________________\n",
            "lambda_16 (Lambda)              (None, 32)           0           melody_1[1][0]                   \n",
            "__________________________________________________________________________________________________\n",
            "lambda_17 (Lambda)              (None, 32)           0           groove_input[0][0]               \n",
            "__________________________________________________________________________________________________\n",
            "lambda_18 (Lambda)              (None, 32)           0           melody_2[1][0]                   \n",
            "__________________________________________________________________________________________________\n",
            "lambda_19 (Lambda)              (None, 32)           0           groove_input[0][0]               \n",
            "__________________________________________________________________________________________________\n",
            "lambda_20 (Lambda)              (None, 32)           0           melody_3[1][0]                   \n",
            "__________________________________________________________________________________________________\n",
            "lambda_21 (Lambda)              (None, 32)           0           groove_input[0][0]               \n",
            "__________________________________________________________________________________________________\n",
            "concatenate (Concatenate)       (None, 128)          0           lambda_4[0][0]                   \n",
            "                                                                 style_input[0][0]                \n",
            "                                                                 lambda_5[0][0]                   \n",
            "                                                                 lambda_6[0][0]                   \n",
            "__________________________________________________________________________________________________\n",
            "concatenate_1 (Concatenate)     (None, 128)          0           lambda_4[0][0]                   \n",
            "                                                                 style_input[0][0]                \n",
            "                                                                 lambda_7[0][0]                   \n",
            "                                                                 lambda_8[0][0]                   \n",
            "__________________________________________________________________________________________________\n",
            "concatenate_2 (Concatenate)     (None, 128)          0           lambda_4[0][0]                   \n",
            "                                                                 style_input[0][0]                \n",
            "                                                                 lambda_9[0][0]                   \n",
            "                                                                 lambda_10[0][0]                  \n",
            "__________________________________________________________________________________________________\n",
            "concatenate_3 (Concatenate)     (None, 128)          0           lambda_4[0][0]                   \n",
            "                                                                 style_input[0][0]                \n",
            "                                                                 lambda_11[0][0]                  \n",
            "                                                                 lambda_12[0][0]                  \n",
            "__________________________________________________________________________________________________\n",
            "concatenate_5 (Concatenate)     (None, 128)          0           lambda_13[0][0]                  \n",
            "                                                                 style_input[0][0]                \n",
            "                                                                 lambda_14[0][0]                  \n",
            "                                                                 lambda_15[0][0]                  \n",
            "__________________________________________________________________________________________________\n",
            "concatenate_6 (Concatenate)     (None, 128)          0           lambda_13[0][0]                  \n",
            "                                                                 style_input[0][0]                \n",
            "                                                                 lambda_16[0][0]                  \n",
            "                                                                 lambda_17[0][0]                  \n",
            "__________________________________________________________________________________________________\n",
            "concatenate_7 (Concatenate)     (None, 128)          0           lambda_13[0][0]                  \n",
            "                                                                 style_input[0][0]                \n",
            "                                                                 lambda_18[0][0]                  \n",
            "                                                                 lambda_19[0][0]                  \n",
            "__________________________________________________________________________________________________\n",
            "concatenate_8 (Concatenate)     (None, 128)          0           lambda_13[0][0]                  \n",
            "                                                                 style_input[0][0]                \n",
            "                                                                 lambda_20[0][0]                  \n",
            "                                                                 lambda_21[0][0]                  \n",
            "__________________________________________________________________________________________________\n",
            "model (Model)                   (None, 1, 16, 84, 1) 1521921     concatenate[0][0]                \n",
            "                                                                 concatenate_5[0][0]              \n",
            "__________________________________________________________________________________________________\n",
            "model_1 (Model)                 (None, 1, 16, 84, 1) 1521921     concatenate_1[0][0]              \n",
            "                                                                 concatenate_6[0][0]              \n",
            "__________________________________________________________________________________________________\n",
            "model_2 (Model)                 (None, 1, 16, 84, 1) 1521921     concatenate_2[0][0]              \n",
            "                                                                 concatenate_7[0][0]              \n",
            "__________________________________________________________________________________________________\n",
            "model_3 (Model)                 (None, 1, 16, 84, 1) 1521921     concatenate_3[0][0]              \n",
            "                                                                 concatenate_8[0][0]              \n",
            "__________________________________________________________________________________________________\n",
            "concatenate_4 (Concatenate)     (None, 1, 16, 84, 4) 0           model[1][0]                      \n",
            "                                                                 model_1[1][0]                    \n",
            "                                                                 model_2[1][0]                    \n",
            "                                                                 model_3[1][0]                    \n",
            "__________________________________________________________________________________________________\n",
            "concatenate_9 (Concatenate)     (None, 1, 16, 84, 4) 0           model[2][0]                      \n",
            "                                                                 model_1[2][0]                    \n",
            "                                                                 model_2[2][0]                    \n",
            "                                                                 model_3[2][0]                    \n",
            "__________________________________________________________________________________________________\n",
            "concatenate_10 (Concatenate)    (None, 2, 16, 84, 4) 0           concatenate_4[0][0]              \n",
            "                                                                 concatenate_9[0][0]              \n",
            "==================================================================================================\n",
            "Total params: 6,605,604\n",
            "Trainable params: 6,576,612\n",
            "Non-trainable params: 28,992\n",
            "__________________________________________________________________________________________________\n"
          ],
          "name": "stdout"
        }
      ]
    },
    {
      "cell_type": "code",
      "metadata": {
        "id": "2rCycHcZ-wAf",
        "colab_type": "code",
        "outputId": "f6d4aeda-83de-4e8f-f3d1-05b0663960a4",
        "colab": {
          "base_uri": "https://localhost:8080/",
          "height": 867
        }
      },
      "source": [
        "gan.critic.summary()"
      ],
      "execution_count": 250,
      "outputs": [
        {
          "output_type": "stream",
          "text": [
            "Model: \"model_45\"\n",
            "_________________________________________________________________\n",
            "Layer (type)                 Output Shape              Param #   \n",
            "=================================================================\n",
            "input_105 (InputLayer)       [(None, 2, 16, 84, 4)]    0         \n",
            "_________________________________________________________________\n",
            "conv3d_40 (Conv3D)           multiple                  1152      \n",
            "_________________________________________________________________\n",
            "leaky_re_lu_45 (LeakyReLU)   multiple                  0         \n",
            "_________________________________________________________________\n",
            "conv3d_41 (Conv3D)           multiple                  16512     \n",
            "_________________________________________________________________\n",
            "leaky_re_lu_46 (LeakyReLU)   multiple                  0         \n",
            "_________________________________________________________________\n",
            "conv3d_42 (Conv3D)           multiple                  196736    \n",
            "_________________________________________________________________\n",
            "leaky_re_lu_47 (LeakyReLU)   multiple                  0         \n",
            "_________________________________________________________________\n",
            "conv3d_43 (Conv3D)           multiple                  229632    \n",
            "_________________________________________________________________\n",
            "leaky_re_lu_48 (LeakyReLU)   multiple                  0         \n",
            "_________________________________________________________________\n",
            "conv3d_44 (Conv3D)           multiple                  131328    \n",
            "_________________________________________________________________\n",
            "leaky_re_lu_49 (LeakyReLU)   multiple                  0         \n",
            "_________________________________________________________________\n",
            "conv3d_45 (Conv3D)           multiple                  131328    \n",
            "_________________________________________________________________\n",
            "leaky_re_lu_50 (LeakyReLU)   multiple                  0         \n",
            "_________________________________________________________________\n",
            "conv3d_46 (Conv3D)           multiple                  262400    \n",
            "_________________________________________________________________\n",
            "leaky_re_lu_51 (LeakyReLU)   multiple                  0         \n",
            "_________________________________________________________________\n",
            "conv3d_47 (Conv3D)           multiple                  393728    \n",
            "_________________________________________________________________\n",
            "leaky_re_lu_52 (LeakyReLU)   multiple                  0         \n",
            "_________________________________________________________________\n",
            "flatten_5 (Flatten)          multiple                  0         \n",
            "_________________________________________________________________\n",
            "dense_34 (Dense)             multiple                  525312    \n",
            "_________________________________________________________________\n",
            "leaky_re_lu_53 (LeakyReLU)   multiple                  0         \n",
            "_________________________________________________________________\n",
            "dense_35 (Dense)             multiple                  1025      \n",
            "=================================================================\n",
            "Total params: 1,889,153\n",
            "Trainable params: 1,889,153\n",
            "Non-trainable params: 0\n",
            "_________________________________________________________________\n"
          ],
          "name": "stdout"
        }
      ]
    },
    {
      "cell_type": "markdown",
      "metadata": {
        "id": "w3ayEeUw9wlW",
        "colab_type": "text"
      },
      "source": [
        "## Training the Model\n",
        "\n",
        "Below we train the model for 6,000 training batches."
      ]
    },
    {
      "cell_type": "code",
      "metadata": {
        "id": "FrAFcuhY-Gro",
        "colab_type": "code",
        "colab": {}
      },
      "source": [
        "# Mount Google drive to load the data and to save the model weights.\n",
        "from google.colab import drive\n",
        "\n",
        "drive.mount('/content/gdrive/')\n",
        "checkpoint_dir = '/content/gdrive/My Drive/gdl_models/musegan/'"
      ],
      "execution_count": 0,
      "outputs": []
    },
    {
      "cell_type": "code",
      "metadata": {
        "id": "Z-L-UF_r2kcg",
        "colab_type": "code",
        "colab": {}
      },
      "source": [
        "!mkdir -p \"/content/gdrive/My Drive/gdl_models/musegan/\""
      ],
      "execution_count": 0,
      "outputs": []
    },
    {
      "cell_type": "code",
      "metadata": {
        "id": "aMjeUAdk-aqf",
        "colab_type": "code",
        "colab": {}
      },
      "source": [
        "EPOCHS = 10000\n",
        "\n",
        "gan.train(data_binary,\n",
        "          epochs=EPOCHS,\n",
        "          checkpoint_dir=checkpoint_dir,\n",
        "          save_every_n_epochs=50,\n",
        "          initial_epoch=6000,\n",
        "          n_critic=10)"
      ],
      "execution_count": 0,
      "outputs": []
    },
    {
      "cell_type": "markdown",
      "metadata": {
        "id": "EzhIVa7WSeJ1",
        "colab_type": "text"
      },
      "source": [
        "## Analyzing the Results"
      ]
    },
    {
      "cell_type": "code",
      "metadata": {
        "id": "eWWIOf0WwStw",
        "colab_type": "code",
        "colab": {}
      },
      "source": [
        "gan.model.load_weights(checkpoint_dir + 'weights-6000.hdf5')"
      ],
      "execution_count": 0,
      "outputs": []
    },
    {
      "cell_type": "code",
      "metadata": {
        "id": "ElXiVusSSk43",
        "colab_type": "code",
        "colab": {}
      },
      "source": [
        "chords_noise = np.random.normal(0, 1, (1, gan.z_dim))\n",
        "style_noise = np.random.normal(0, 1, (1, gan.z_dim))\n",
        "melody_noise = np.random.normal(0, 1, (1, gan.n_tracks, gan.z_dim))\n",
        "groove_noise = np.random.normal(0, 1, (1, gan.n_tracks, gan.z_dim))\n",
        "\n",
        "gen_scores = gan.generator.predict(\n",
        "    [chords_noise, style_noise, melody_noise, groove_noise])"
      ],
      "execution_count": 0,
      "outputs": []
    },
    {
      "cell_type": "code",
      "metadata": {
        "id": "e8ghAYj9U7cA",
        "colab_type": "code",
        "outputId": "c9094250-2df8-4764-9fec-c88e61f79e75",
        "colab": {
          "base_uri": "https://localhost:8080/",
          "height": 34
        }
      },
      "source": [
        "gen_scores.shape"
      ],
      "execution_count": 440,
      "outputs": [
        {
          "output_type": "execute_result",
          "data": {
            "text/plain": [
              "(1, 2, 16, 84, 4)"
            ]
          },
          "metadata": {
            "tags": []
          },
          "execution_count": 440
        }
      ]
    },
    {
      "cell_type": "code",
      "metadata": {
        "id": "4NausMC7UDiM",
        "colab_type": "code",
        "outputId": "495f4428-c9c9-4dae-d896-cc029e1aa07e",
        "colab": {
          "base_uri": "https://localhost:8080/",
          "height": 34
        }
      },
      "source": [
        "np.argmax(gen_scores[0, 0, 0:16, :, 3], axis=1)"
      ],
      "execution_count": 459,
      "outputs": [
        {
          "output_type": "execute_result",
          "data": {
            "text/plain": [
              "array([41, 41, 43, 43, 57, 57, 57, 57, 48, 48, 48, 48, 50, 50, 50, 50])"
            ]
          },
          "metadata": {
            "tags": []
          },
          "execution_count": 459
        }
      ]
    },
    {
      "cell_type": "code",
      "metadata": {
        "id": "whDFjixbTNmy",
        "colab_type": "code",
        "colab": {}
      },
      "source": [
        "!mkdir -p pred"
      ],
      "execution_count": 0,
      "outputs": []
    },
    {
      "cell_type": "code",
      "metadata": {
        "id": "KahyZYqFTCMV",
        "colab_type": "code",
        "colab": {}
      },
      "source": [
        "notes_to_midi(gen_scores, 'pred')"
      ],
      "execution_count": 0,
      "outputs": []
    },
    {
      "cell_type": "code",
      "metadata": {
        "id": "BR2l7Oa3TpDl",
        "colab_type": "code",
        "outputId": "0df79cf8-c596-42d6-e06b-cb1419901cd2",
        "colab": {
          "base_uri": "https://localhost:8080/",
          "height": 119
        }
      },
      "source": [
        "!fluidsynth -ni font.sf2 pred/0.midi -F pred/0.wav -r 1000"
      ],
      "execution_count": 461,
      "outputs": [
        {
          "output_type": "stream",
          "text": [
            "FluidSynth version 1.1.9\n",
            "Copyright (C) 2000-2018 Peter Hanappe and others.\n",
            "Distributed under the LGPL license.\n",
            "SoundFont(R) is a registered trademark of E-mu Systems, Inc.\n",
            "\n",
            "Rendering audio to file 'pred/0.wav'..\n"
          ],
          "name": "stdout"
        }
      ]
    },
    {
      "cell_type": "code",
      "metadata": {
        "id": "zpoX4Y3YTrFl",
        "colab_type": "code",
        "colab": {}
      },
      "source": [
        "rate, data = wavfile.read('pred/0.wav')\n",
        "Audio(data.T, rate=rate, autoplay=True)"
      ],
      "execution_count": 0,
      "outputs": []
    },
    {
      "cell_type": "code",
      "metadata": {
        "id": "liPmO6xXMCFL",
        "colab_type": "code",
        "outputId": "f4141afd-00d2-41a0-c1fe-adabaabbb85c",
        "colab": {
          "base_uri": "https://localhost:8080/",
          "height": 911
        }
      },
      "source": [
        "gan.draw_score(gen_scores)"
      ],
      "execution_count": 463,
      "outputs": [
        {
          "output_type": "display_data",
          "data": {
            "image/png": "[encoded data removed]",
            "text/plain": [
              "<Figure size 864x576 with 8 Axes>"
            ]
          },
          "metadata": {
            "tags": [],
            "image/png": {
              "width": 161,
              "height": 894
            },
            "needs_background": "light"
          }
        }
      ]
    },
    {
      "cell_type": "markdown",
      "metadata": {
        "id": "Nr_3kbseHphK",
        "colab_type": "text"
      },
      "source": [
        "Now let's try the same input but change the chords noise."
      ]
    },
    {
      "cell_type": "code",
      "metadata": {
        "id": "Z7DvLtSDIFx-",
        "colab_type": "code",
        "colab": {}
      },
      "source": [
        "!mkdir -p pred_c"
      ],
      "execution_count": 0,
      "outputs": []
    },
    {
      "cell_type": "code",
      "metadata": {
        "id": "z83yk4ugICXl",
        "colab_type": "code",
        "colab": {}
      },
      "source": [
        "chords_noise2 = np.random.normal(0, 1, (1, gan.z_dim))\n",
        "gen_scores_c = gan.generator.predict(\n",
        "    [chords_noise2, style_noise, melody_noise, groove_noise])"
      ],
      "execution_count": 0,
      "outputs": []
    },
    {
      "cell_type": "code",
      "metadata": {
        "id": "F-Mr54n9IJdM",
        "colab_type": "code",
        "colab": {}
      },
      "source": [
        "notes_to_midi(gen_scores_c, 'pred_c')"
      ],
      "execution_count": 0,
      "outputs": []
    },
    {
      "cell_type": "code",
      "metadata": {
        "id": "_RfI0r7LIQO5",
        "colab_type": "code",
        "outputId": "eefd190d-6e4b-4680-bbbf-6f2d80768d7b",
        "colab": {
          "base_uri": "https://localhost:8080/",
          "height": 119
        }
      },
      "source": [
        "!fluidsynth -ni font.sf2 pred_c/0.midi -F pred_c/0.wav -r 1000"
      ],
      "execution_count": 467,
      "outputs": [
        {
          "output_type": "stream",
          "text": [
            "FluidSynth version 1.1.9\n",
            "Copyright (C) 2000-2018 Peter Hanappe and others.\n",
            "Distributed under the LGPL license.\n",
            "SoundFont(R) is a registered trademark of E-mu Systems, Inc.\n",
            "\n",
            "Rendering audio to file 'pred_c/0.wav'..\n"
          ],
          "name": "stdout"
        }
      ]
    },
    {
      "cell_type": "markdown",
      "metadata": {
        "id": "HI_bhDH31sOQ",
        "colab_type": "text"
      },
      "source": [
        "Let's compare the audio."
      ]
    },
    {
      "cell_type": "code",
      "metadata": {
        "id": "_AJhbO381qU5",
        "colab_type": "code",
        "colab": {}
      },
      "source": [
        "rate, data = wavfile.read('pred/0.wav')\n",
        "Audio(data.T, rate=rate, autoplay=True)"
      ],
      "execution_count": 0,
      "outputs": []
    },
    {
      "cell_type": "code",
      "metadata": {
        "id": "gvDXu4DzIUFp",
        "colab_type": "code",
        "colab": {}
      },
      "source": [
        "rate, data = wavfile.read('pred_c/0.wav')\n",
        "Audio(data.T, rate=rate, autoplay=True)"
      ],
      "execution_count": 0,
      "outputs": []
    },
    {
      "cell_type": "markdown",
      "metadata": {
        "id": "KaiebW5S2EdO",
        "colab_type": "text"
      },
      "source": [
        "And let's compare the scores side by side. The original is on the left and the score with the new chords input is on the right."
      ]
    },
    {
      "cell_type": "code",
      "metadata": {
        "id": "UmOdOp0yNXxr",
        "colab_type": "code",
        "outputId": "2f14eeeb-ec43-4e47-e0fd-6c5cfce7ae66",
        "colab": {
          "base_uri": "https://localhost:8080/",
          "height": 911
        }
      },
      "source": [
        "gan.draw_score(np.array([gen_scores[0], gen_scores_c[0]]))"
      ],
      "execution_count": 470,
      "outputs": [
        {
          "output_type": "display_data",
          "data": {
            "image/png": "[encoded data removed]",
            "text/plain": [
              "<Figure size 1728x576 with 16 Axes>"
            ]
          },
          "metadata": {
            "tags": [],
            "image/png": {
              "width": 334,
              "height": 894
            },
            "needs_background": "light"
          }
        }
      ]
    },
    {
      "cell_type": "markdown",
      "metadata": {
        "id": "twYJsHFEIz8M",
        "colab_type": "text"
      },
      "source": [
        "Similarly, let's try changing the style noise."
      ]
    },
    {
      "cell_type": "code",
      "metadata": {
        "id": "oIwMwhYCI5fn",
        "colab_type": "code",
        "colab": {}
      },
      "source": [
        "!mkdir -p pred_s"
      ],
      "execution_count": 0,
      "outputs": []
    },
    {
      "cell_type": "code",
      "metadata": {
        "id": "vZDexSOtI8Tn",
        "colab_type": "code",
        "colab": {}
      },
      "source": [
        "style_noise2 = np.random.normal(0, 1, (1, gan.z_dim))\n",
        "gen_scores_s = gan.generator.predict(\n",
        "    [chords_noise, style_noise2, melody_noise, groove_noise])"
      ],
      "execution_count": 0,
      "outputs": []
    },
    {
      "cell_type": "code",
      "metadata": {
        "id": "uymZjnXmJCBE",
        "colab_type": "code",
        "colab": {}
      },
      "source": [
        "notes_to_midi(gen_scores_s, 'pred_s')"
      ],
      "execution_count": 0,
      "outputs": []
    },
    {
      "cell_type": "code",
      "metadata": {
        "id": "eFK5N0h_JD4w",
        "colab_type": "code",
        "outputId": "bfaebb76-35bf-40f0-a9e9-7d3deb350a09",
        "colab": {
          "base_uri": "https://localhost:8080/",
          "height": 119
        }
      },
      "source": [
        "!fluidsynth -ni font.sf2 pred_s/0.midi -F pred_s/0.wav -r 1000"
      ],
      "execution_count": 478,
      "outputs": [
        {
          "output_type": "stream",
          "text": [
            "FluidSynth version 1.1.9\n",
            "Copyright (C) 2000-2018 Peter Hanappe and others.\n",
            "Distributed under the LGPL license.\n",
            "SoundFont(R) is a registered trademark of E-mu Systems, Inc.\n",
            "\n",
            "Rendering audio to file 'pred_s/0.wav'..\n"
          ],
          "name": "stdout"
        }
      ]
    },
    {
      "cell_type": "code",
      "metadata": {
        "id": "UIpJtr-BJG2A",
        "colab_type": "code",
        "colab": {}
      },
      "source": [
        "rate, data = wavfile.read('pred/0.wav')\n",
        "Audio(data.T, rate=rate, autoplay=True)"
      ],
      "execution_count": 0,
      "outputs": []
    },
    {
      "cell_type": "code",
      "metadata": {
        "id": "X7uP1En5-J73",
        "colab_type": "code",
        "colab": {}
      },
      "source": [
        "rate, data = wavfile.read('pred_s/0.wav')\n",
        "Audio(data.T, rate=rate, autoplay=True)"
      ],
      "execution_count": 0,
      "outputs": []
    },
    {
      "cell_type": "markdown",
      "metadata": {
        "id": "5hkN0Zi4Amr5",
        "colab_type": "text"
      },
      "source": [
        "The original is on the left and the score with the new style input is on the right."
      ]
    },
    {
      "cell_type": "code",
      "metadata": {
        "id": "lF1IndjEN5R6",
        "colab_type": "code",
        "outputId": "10fadbbb-cab5-4f5e-9fc0-95011fd703eb",
        "colab": {
          "base_uri": "https://localhost:8080/",
          "height": 911
        }
      },
      "source": [
        "gan.draw_score(np.array([gen_scores[0], gen_scores_s[0]]))"
      ],
      "execution_count": 480,
      "outputs": [
        {
          "output_type": "display_data",
          "data": {
            "image/png": "[encoded data removed]",
            "text/plain": [
              "<Figure size 1728x576 with 16 Axes>"
            ]
          },
          "metadata": {
            "tags": [],
            "image/png": {
              "width": 334,
              "height": 894
            },
            "needs_background": "light"
          }
        }
      ]
    },
    {
      "cell_type": "markdown",
      "metadata": {
        "id": "xTJwAYYDylKk",
        "colab_type": "text"
      },
      "source": [
        "Now we modify the melody noise."
      ]
    },
    {
      "cell_type": "code",
      "metadata": {
        "id": "mCJMcjmAyoEe",
        "colab_type": "code",
        "colab": {}
      },
      "source": [
        "melody_noise2 = np.random.normal(0, 1, (1, gan.n_tracks, gan.z_dim))\n",
        "\n",
        "gen_scores_m = gan.generator.predict(\n",
        "    [chords_noise, style_noise, melody_noise2, groove_noise])"
      ],
      "execution_count": 0,
      "outputs": []
    },
    {
      "cell_type": "code",
      "metadata": {
        "id": "BkCgdkm6yz6q",
        "colab_type": "code",
        "colab": {}
      },
      "source": [
        "!mkdir -p pred_m"
      ],
      "execution_count": 0,
      "outputs": []
    },
    {
      "cell_type": "code",
      "metadata": {
        "id": "Tov97SCQy4KW",
        "colab_type": "code",
        "colab": {}
      },
      "source": [
        "notes_to_midi(gen_scores_m, 'pred_m')"
      ],
      "execution_count": 0,
      "outputs": []
    },
    {
      "cell_type": "code",
      "metadata": {
        "id": "Xn1sSJ02y9Ez",
        "colab_type": "code",
        "colab": {
          "base_uri": "https://localhost:8080/",
          "height": 119
        },
        "outputId": "cec88c29-6150-43ec-a3a5-1f6ada4ccdf9"
      },
      "source": [
        "!fluidsynth -ni font.sf2 pred_m/0.midi -F pred_m/0.wav -r 1000"
      ],
      "execution_count": 484,
      "outputs": [
        {
          "output_type": "stream",
          "text": [
            "FluidSynth version 1.1.9\n",
            "Copyright (C) 2000-2018 Peter Hanappe and others.\n",
            "Distributed under the LGPL license.\n",
            "SoundFont(R) is a registered trademark of E-mu Systems, Inc.\n",
            "\n",
            "Rendering audio to file 'pred_m/0.wav'..\n"
          ],
          "name": "stdout"
        }
      ]
    },
    {
      "cell_type": "code",
      "metadata": {
        "id": "Uxh5GpZD6EXt",
        "colab_type": "code",
        "colab": {}
      },
      "source": [
        "rate, data = wavfile.read('pred/0.wav')\n",
        "Audio(data.T, rate=rate, autoplay=True)"
      ],
      "execution_count": 0,
      "outputs": []
    },
    {
      "cell_type": "code",
      "metadata": {
        "id": "_URfMl8BzGqS",
        "colab_type": "code",
        "colab": {}
      },
      "source": [
        "rate, data = wavfile.read('pred_m/0.wav')\n",
        "Audio(data.T, rate=rate, autoplay=True)"
      ],
      "execution_count": 0,
      "outputs": []
    },
    {
      "cell_type": "markdown",
      "metadata": {
        "id": "cQPvJMJZAoLt",
        "colab_type": "text"
      },
      "source": [
        "The original is on the left and the score with the new melody input is on the right."
      ]
    },
    {
      "cell_type": "code",
      "metadata": {
        "id": "x90fg37czgic",
        "colab_type": "code",
        "colab": {
          "base_uri": "https://localhost:8080/",
          "height": 911
        },
        "outputId": "a56cdb61-c112-4d03-862c-c219c5e7b327"
      },
      "source": [
        "gan.draw_score(np.array([gen_scores[0], gen_scores_m[0]]))"
      ],
      "execution_count": 488,
      "outputs": [
        {
          "output_type": "display_data",
          "data": {
            "image/png": "[encoded data removed]",
            "text/plain": [
              "<Figure size 1728x576 with 16 Axes>"
            ]
          },
          "metadata": {
            "tags": [],
            "image/png": {
              "width": 334,
              "height": 894
            },
            "needs_background": "light"
          }
        }
      ]
    },
    {
      "cell_type": "markdown",
      "metadata": {
        "id": "ZrGjOXk8NrKL",
        "colab_type": "text"
      },
      "source": [
        "Finally, we try generating the same music using a new groove vector."
      ]
    },
    {
      "cell_type": "code",
      "metadata": {
        "id": "YA5xb-tXNvZO",
        "colab_type": "code",
        "colab": {}
      },
      "source": [
        "groove_noise2 = np.random.normal(0, 1, (1, gan.n_tracks, gan.z_dim))\n",
        "\n",
        "gen_scores_g = gan.generator.predict(\n",
        "    [chords_noise, style_noise, melody_noise, groove_noise2])"
      ],
      "execution_count": 0,
      "outputs": []
    },
    {
      "cell_type": "code",
      "metadata": {
        "id": "QZthhCPFNzIU",
        "colab_type": "code",
        "colab": {}
      },
      "source": [
        "!mkdir -p pred_g"
      ],
      "execution_count": 0,
      "outputs": []
    },
    {
      "cell_type": "code",
      "metadata": {
        "id": "ptO39SW4N2o7",
        "colab_type": "code",
        "colab": {}
      },
      "source": [
        "notes_to_midi(gen_scores_g, 'pred_g')"
      ],
      "execution_count": 0,
      "outputs": []
    },
    {
      "cell_type": "code",
      "metadata": {
        "id": "g8BsM00nObxZ",
        "colab_type": "code",
        "colab": {
          "base_uri": "https://localhost:8080/",
          "height": 119
        },
        "outputId": "6dc7e2bf-7ab4-45f7-f02e-80467d8ec15f"
      },
      "source": [
        "!fluidsynth -ni font.sf2 pred_g/0.midi -F pred_g/0.wav -r 1000"
      ],
      "execution_count": 498,
      "outputs": [
        {
          "output_type": "stream",
          "text": [
            "FluidSynth version 1.1.9\n",
            "Copyright (C) 2000-2018 Peter Hanappe and others.\n",
            "Distributed under the LGPL license.\n",
            "SoundFont(R) is a registered trademark of E-mu Systems, Inc.\n",
            "\n",
            "Rendering audio to file 'pred_g/0.wav'..\n"
          ],
          "name": "stdout"
        }
      ]
    },
    {
      "cell_type": "code",
      "metadata": {
        "id": "r4hbi7c1Ogbm",
        "colab_type": "code",
        "colab": {}
      },
      "source": [
        "rate, data = wavfile.read('pred/0.wav')\n",
        "Audio(data.T, rate=rate, autoplay=True)"
      ],
      "execution_count": 0,
      "outputs": []
    },
    {
      "cell_type": "code",
      "metadata": {
        "id": "sCf17vUM6nPi",
        "colab_type": "code",
        "colab": {}
      },
      "source": [
        "rate, data = wavfile.read('pred_g/0.wav')\n",
        "Audio(data.T, rate=rate, autoplay=True)"
      ],
      "execution_count": 0,
      "outputs": []
    },
    {
      "cell_type": "markdown",
      "metadata": {
        "id": "MAtXmzQJApTj",
        "colab_type": "text"
      },
      "source": [
        "The original is on the left and the score with the new groove input is on the right."
      ]
    },
    {
      "cell_type": "code",
      "metadata": {
        "id": "lmLZqHt-Qfzq",
        "colab_type": "code",
        "colab": {
          "base_uri": "https://localhost:8080/",
          "height": 911
        },
        "outputId": "f0a4e884-36ca-4fa4-e6b8-44d3caf68390"
      },
      "source": [
        "gan.draw_score(np.array([gen_scores[0], gen_scores_g[0]]))"
      ],
      "execution_count": 500,
      "outputs": [
        {
          "output_type": "display_data",
          "data": {
            "image/png": "[encoded data removed]",
            "text/plain": [
              "<Figure size 1728x576 with 16 Axes>"
            ]
          },
          "metadata": {
            "tags": [],
            "image/png": {
              "width": 334,
              "height": 894
            },
            "needs_background": "light"
          }
        }
      ]
    }
  ]
}