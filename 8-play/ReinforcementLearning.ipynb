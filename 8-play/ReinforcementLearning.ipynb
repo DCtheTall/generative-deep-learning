{
  "nbformat": 4,
  "nbformat_minor": 0,
  "metadata": {
    "colab": {
      "name": "ReinforcementLearning.ipynb",
      "provenance": [],
      "collapsed_sections": []
    },
    "kernelspec": {
      "name": "python3",
      "display_name": "Python 3"
    },
    "accelerator": "GPU"
  },
  "cells": [
    {
      "cell_type": "markdown",
      "metadata": {
        "id": "JpRp5VEhQw8h",
        "colab_type": "text"
      },
      "source": [
        "# Chapter 8: Play\n",
        "\n",
        "## Reinforcement Learning\n",
        "\n",
        "_Reinforcement learning_ (RL) is a field of machine learning that aims to train an agent to perform a task optimally in a given environment and metric for measuring success.\n",
        "\n",
        "Below are some definitions of reinforcement learning terms that will be used in this notebook and other notebooks in this directory.\n",
        "\n",
        "-    *Evironment*\n",
        "\n",
        "     The world in which the agent operates. It is also the mechanism that computes the game state and reward as the agent takes actions in this world.\n",
        "\n",
        "-   *Agent*\n",
        "    \n",
        "    The entity that takes actions in the evironment.\n",
        "\n",
        "-   *Game state*\n",
        "    \n",
        "    The data that represents the current position in the evironment the agent is in.\n",
        "\n",
        "-   *Action*\n",
        "    \n",
        "    An element of the set of possible inputs (or \"actions\") that the agent can supply to the environment to earn reward and change the game state.\n",
        "\n",
        "-   *Reward*\n",
        "\n",
        "    A value returned by the environment which is used as a metric which indicates how well the agent is performing the particular task.\n",
        "\n",
        "-   *Episode*\n",
        "\n",
        "    A single run of the agent inputting an action into the environment. This is also called a _rollout_.\n",
        "\n",
        "-   *Timestep*\n",
        "\n",
        "    For a discrete event environment, this is the unit of time we use to index all states, actions, and rewards.\n",
        "\n",
        "## OpenAI Gym\n",
        "\n",
        "[OpenAI Gym](https://gym.openai.com/) is a Python library which simulates multiple environments for training RL agents. Below is some example code which runs the `CarRacing` environment using an agent that just takes random actions.\n",
        "\n",
        "### Rendering the Environment\n",
        "\n",
        "Below is code for rendering the `CarRacing-v0` environment in Colab."
      ]
    },
    {
      "cell_type": "code",
      "metadata": {
        "id": "l1J08C5YOPqV",
        "colab_type": "code",
        "colab": {}
      },
      "source": [
        "!pip3 install Box2D gym"
      ],
      "execution_count": 0,
      "outputs": []
    },
    {
      "cell_type": "code",
      "metadata": {
        "id": "uxqzr3BXRtjY",
        "colab_type": "code",
        "colab": {}
      },
      "source": [
        "!apt-get install -y xvfb python-opengl > /dev/null 2>&1"
      ],
      "execution_count": 0,
      "outputs": []
    },
    {
      "cell_type": "code",
      "metadata": {
        "id": "YgMGIkScTBKm",
        "colab_type": "code",
        "colab": {}
      },
      "source": [
        "!pip3 install pyvirtualdisplay"
      ],
      "execution_count": 0,
      "outputs": []
    },
    {
      "cell_type": "code",
      "metadata": {
        "id": "7INokYcITF5C",
        "colab_type": "code",
        "colab": {
          "base_uri": "https://localhost:8080/",
          "height": 34
        },
        "outputId": "8244c309-8095-43f2-9f5b-238f4e53f9b6"
      },
      "source": [
        "from pyvirtualdisplay import Display\n",
        "\n",
        "display = Display(visible=0, size=(300, 300))\n",
        "display.start()"
      ],
      "execution_count": 9,
      "outputs": [
        {
          "output_type": "execute_result",
          "data": {
            "text/plain": [
              "<pyvirtualdisplay.display.Display at 0x7f42a0a0bdd8>"
            ]
          },
          "metadata": {
            "tags": []
          },
          "execution_count": 9
        }
      ]
    },
    {
      "cell_type": "code",
      "metadata": {
        "id": "EoXM6Du3Cr8V",
        "colab_type": "code",
        "colab": {}
      },
      "source": [
        "import gym\n",
        "\n",
        "env = gym.make('CarRacing-v0')\n",
        "obs = env.reset()"
      ],
      "execution_count": 0,
      "outputs": []
    },
    {
      "cell_type": "code",
      "metadata": {
        "id": "WKmH91j3Tder",
        "colab_type": "code",
        "colab": {
          "base_uri": "https://localhost:8080/",
          "height": 34
        },
        "outputId": "f39876ba-23ba-4087-f24f-007abf2f7e2a"
      },
      "source": [
        "obs.shape"
      ],
      "execution_count": 11,
      "outputs": [
        {
          "output_type": "execute_result",
          "data": {
            "text/plain": [
              "(96, 96, 3)"
            ]
          },
          "metadata": {
            "tags": []
          },
          "execution_count": 11
        }
      ]
    },
    {
      "cell_type": "markdown",
      "metadata": {
        "id": "oy8uv_niYoOJ",
        "colab_type": "text"
      },
      "source": [
        "The action space for this environment is a `Box` environment of shape `(3,)`, meaning that it takes a 3-D vector of floats as an input. The first element must be in the interval [-1, 1]. The latter two must be in [0, 1]."
      ]
    },
    {
      "cell_type": "code",
      "metadata": {
        "id": "JVQnKrAUU4bV",
        "colab_type": "code",
        "colab": {
          "base_uri": "https://localhost:8080/",
          "height": 34
        },
        "outputId": "0d54e650-f721-43af-fa0c-e6c35e0ff37f"
      },
      "source": [
        "env.action_space"
      ],
      "execution_count": 14,
      "outputs": [
        {
          "output_type": "execute_result",
          "data": {
            "text/plain": [
              "Box(3,)"
            ]
          },
          "metadata": {
            "tags": []
          },
          "execution_count": 14
        }
      ]
    },
    {
      "cell_type": "code",
      "metadata": {
        "id": "0kDIfm9NYfP3",
        "colab_type": "code",
        "colab": {
          "base_uri": "https://localhost:8080/",
          "height": 34
        },
        "outputId": "508deab5-e6a4-452c-8093-a98cdc9d2ac7"
      },
      "source": [
        "env.action_space.low, env.action_space.high"
      ],
      "execution_count": 74,
      "outputs": [
        {
          "output_type": "execute_result",
          "data": {
            "text/plain": [
              "(array([-1.,  0.,  0.], dtype=float32), array([1., 1., 1.], dtype=float32))"
            ]
          },
          "metadata": {
            "tags": []
          },
          "execution_count": 74
        }
      ]
    },
    {
      "cell_type": "code",
      "metadata": {
        "id": "c6YST1usUXSA",
        "colab_type": "code",
        "colab": {
          "base_uri": "https://localhost:8080/",
          "height": 328
        },
        "outputId": "cf73468a-a996-436f-fd06-5b7060d6aad5"
      },
      "source": [
        "import matplotlib.pyplot as plt\n",
        "\n",
        "STARTUP_FRAMES = 30\n",
        "\n",
        "for _ in range(STARTUP_FRAMES):\n",
        "  env.step([0, 0, 0])\n",
        "\n",
        "img = env.render(mode='rgb_array')\n",
        "plt.figure(figsize=(8,8))\n",
        "plt.imshow(img)\n",
        "plt.axis('off')\n",
        "plt.show()"
      ],
      "execution_count": 72,
      "outputs": [
        {
          "output_type": "display_data",
          "data": {
            "image/png": "[encoded data removed]",
            "text/plain": [
              "<Figure size 576x576 with 1 Axes>"
            ]
          },
          "metadata": {
            "tags": [],
            "needs_background": "light"
          }
        }
      ]
    },
    {
      "cell_type": "markdown",
      "metadata": {
        "id": "zxn-BYJxWzbk",
        "colab_type": "text"
      },
      "source": [
        "### Plotting an Animation of an Agent\n",
        "\n",
        "Below we will be plotting an animation of an agent that acts randomly in the environment."
      ]
    },
    {
      "cell_type": "code",
      "metadata": {
        "id": "m5ZmBvGrY_7f",
        "colab_type": "code",
        "colab": {}
      },
      "source": [
        "%matplotlib inline\n",
        "import matplotlib\n",
        "import matplotlib.animation as animation\n",
        "from IPython.display import HTML\n",
        "\n",
        "def update_scene(num, frames, patch):\n",
        "  \"\"\"Update the animation scene after a single frame.\"\"\"\n",
        "  patch.set_data(frames[num])\n",
        "  return patch,\n",
        "\n",
        "def plot_animation(frames, repeat=False, interval=40):\n",
        "  \"\"\"Utility function for \"\"\"\n",
        "  plt.close()\n",
        "  fig = plt.figure()\n",
        "  patch = plt.imshow(frames[0])\n",
        "  plt.axis('off')\n",
        "  anim = animation.FuncAnimation(fig, update_scene, fargs=(frames, patch),\n",
        "                                 frames=len(frames), repeat=repeat,\n",
        "                                 interval=interval)\n",
        "  return HTML(anim.to_html5_video())"
      ],
      "execution_count": 0,
      "outputs": []
    },
    {
      "cell_type": "code",
      "metadata": {
        "id": "-GdM3YAbWhGN",
        "colab_type": "code",
        "colab": {
          "base_uri": "https://localhost:8080/",
          "height": 34
        },
        "outputId": "54d78392-8a37-428b-e47a-ce0227a9641b"
      },
      "source": [
        "import numpy as np\n",
        "\n",
        "env.reset()\n",
        "\n",
        "for _ in range(STARTUP_FRAMES):\n",
        "  env.step([0, 0, 0])\n",
        "\n",
        "frames = []\n",
        "\n",
        "while True:\n",
        "  obs, reward, done, info = env.step(\n",
        "      [np.random.uniform(lo, hi)\n",
        "       for lo, hi in [(-1.0, 1.0), (0.0, 1.0), (0.0, 1.0)]])\n",
        "  frames.append(env.render(mode='rgb_array'))\n",
        "  if done:\n",
        "    break"
      ],
      "execution_count": 82,
      "outputs": [
        {
          "output_type": "stream",
          "text": [
            "Track generation: 1287..1613 -> 326-tiles track\n"
          ],
          "name": "stdout"
        }
      ]
    },
    {
      "cell_type": "code",
      "metadata": {
        "id": "lFf8lrUmbcQu",
        "colab_type": "code",
        "colab": {}
      },
      "source": [
        "plot_animation(frames)"
      ],
      "execution_count": 0,
      "outputs": []
    }
  ]
}