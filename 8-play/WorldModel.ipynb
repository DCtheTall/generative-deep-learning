{
  "nbformat": 4,
  "nbformat_minor": 0,
  "metadata": {
    "colab": {
      "name": "WorldModel.ipynb",
      "provenance": [],
      "collapsed_sections": []
    },
    "kernelspec": {
      "name": "python3",
      "display_name": "Python 3"
    }
  },
  "cells": [
    {
      "cell_type": "markdown",
      "metadata": {
        "id": "uGTDL03VEWIP",
        "colab_type": "text"
      },
      "source": [
        "# Chapter 8: Play\n",
        "\n",
        "This notebook contains an implementation of training an agent for the [OpenAI Gym `CarRacing-v0` environment](https://gym.openai.com/envs/CarRacing-v0/).\n",
        "\n",
        "## World Model\n",
        "\n",
        "This notebook will be using the [World Model architecture](https://arxiv.org/abs/1803.10122) to train a model for the `CarRacing-v0` environment using the model's own generated \"dream\" of the environment. The code is based on the implementation in [this repository](https://github.com/AppliedDataSciencePartners/WorldModels).\n",
        "\n",
        "The model is broken up into 3 main components: a variational autoencoder (VAE), a recurrent neural network with a mixture density network (MDN-RNN), and finally a controller.\n",
        "\n",
        "### The Variational Autoencoder\n",
        "\n",
        "The VAE will be trained first to encode the observations of different game states into a into a normally distributed, lower-dimensional latent space.\n",
        "\n",
        "### The MDN-RNN\n",
        "\n",
        "The MDN-RNN is trained after the VAE. Its goal is to predict the distribution of the next possible state in the latent space and the future reward at that state using the VAE's encoding, the most recent action, and the current reward as input. It consists of an LSTM network and a mixture-density network (MDN) output layer allows the next state could be sampled from numerous different normal distributions.\n",
        "\n",
        "### The Controller\n",
        "\n",
        "The controller is a densely connected neural network whose input is the concatenation of the output of the VAE and the hidden state of the LSTM network. The network's 3 output neurons represent the 3 possible actions the agent can take (steer, accelerate, brake).\n",
        "\n",
        "## Collecting the Rollout Data"
      ]
    },
    {
      "cell_type": "code",
      "metadata": {
        "id": "F8R1sJPRPL7X",
        "colab_type": "code",
        "colab": {}
      },
      "source": [
        "# TODO"
      ],
      "execution_count": 0,
      "outputs": []
    }
  ]
}