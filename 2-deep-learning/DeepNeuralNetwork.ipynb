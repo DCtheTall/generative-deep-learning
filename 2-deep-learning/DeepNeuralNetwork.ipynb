{
  "nbformat": 4,
  "nbformat_minor": 0,
  "metadata": {
    "colab": {
      "name": "DeepNeuralNetwork.ipynb",
      "provenance": [],
      "collapsed_sections": []
    },
    "kernelspec": {
      "name": "python3",
      "display_name": "Python 3"
    }
  },
  "cells": [
    {
      "cell_type": "markdown",
      "metadata": {
        "id": "b9pK9CPzVmfd",
        "colab_type": "text"
      },
      "source": [
        "# Chapter 2: Deep Learning\n",
        "\n",
        "## Your First Deep Neural Network\n",
        "\n",
        "In the example below, we will be using an _artificial neural network_ (ANN) to classify images in the CIFAR-10 dataset."
      ]
    },
    {
      "cell_type": "code",
      "metadata": {
        "id": "wei5xmduVhaO",
        "colab_type": "code",
        "colab": {
          "base_uri": "https://localhost:8080/",
          "height": 85
        },
        "outputId": "2fba68bb-5b66-488d-ba60-697f665d0a2e"
      },
      "source": [
        "%tensorflow_version 1.x\n",
        "import numpy as np\n",
        "from keras.utils import to_categorical\n",
        "from keras.datasets import cifar10\n",
        "\n",
        "(X_train, y_train), (X_test, y_test) = cifar10.load_data()\n",
        "\n",
        "NUM_CLASSES = 10\n",
        "\n",
        "# Scaling the values of the image data to the interval [0, 1].\n",
        "X_train = X_train.astype('float32') / 255.0\n",
        "X_test = X_test.astype('float32') / 255.0\n",
        "\n",
        "# One-hot encode the labels.\n",
        "y_train = to_categorical(y_train)\n",
        "y_test = to_categorical(y_test)"
      ],
      "execution_count": 1,
      "outputs": [
        {
          "output_type": "stream",
          "text": [
            "TensorFlow 1.x selected.\n"
          ],
          "name": "stdout"
        },
        {
          "output_type": "stream",
          "text": [
            "Using TensorFlow backend.\n"
          ],
          "name": "stderr"
        },
        {
          "output_type": "stream",
          "text": [
            "Downloading data from https://www.cs.toronto.edu/~kriz/cifar-10-python.tar.gz\n",
            "170500096/170498071 [==============================] - 4s 0us/step\n"
          ],
          "name": "stdout"
        }
      ]
    },
    {
      "cell_type": "markdown",
      "metadata": {
        "id": "hXhmW78yWq7x",
        "colab_type": "text"
      },
      "source": [
        "### Building the Model\n",
        "\n",
        "The two code cells below compare defining a neural network using Keras' sequential and functional APIs respectively."
      ]
    },
    {
      "cell_type": "code",
      "metadata": {
        "id": "IPk_DTEPWwU6",
        "colab_type": "code",
        "colab": {}
      },
      "source": [
        "from keras.models import Sequential\n",
        "from keras.layers import Flatten, Dense\n",
        "\n",
        "model = Sequential([\n",
        "  Dense(200, activation='relu', input_shape=(32, 32, 3)),\n",
        "  Flatten(),\n",
        "  Dense(150, activation='relu'),\n",
        "  Dense(10, activation='softmax'),\n",
        "])"
      ],
      "execution_count": 0,
      "outputs": []
    },
    {
      "cell_type": "code",
      "metadata": {
        "id": "K2jTCzUYYmdw",
        "colab_type": "code",
        "colab": {}
      },
      "source": [
        "from keras.layers import Input, Flatten, Dense\n",
        "from keras.models import Model\n",
        "\n",
        "input_layer = Input(shape=(32, 32, 3))\n",
        "flatten_layer = Flatten()(input_layer)\n",
        "hidden1 = Dense(units=200, activation='relu')(flatten_layer)\n",
        "hidden2 = Dense(units=150, activation='relu')(hidden1)\n",
        "output_layer = Dense(units=10, activation='softmax')(hidden2)\n",
        "\n",
        "model = Model(input_layer, output_layer)"
      ],
      "execution_count": 0,
      "outputs": []
    },
    {
      "cell_type": "markdown",
      "metadata": {
        "id": "r6GLlLxoa8gP",
        "colab_type": "text"
      },
      "source": [
        "As the name suggests, the `Input` layer is the entry point into the network. The `Flatten` layer flattens a multidimensional input into a single-dimensional output. The `Dense` layers are fully connected layers which multiply inputs by a weight and then applies a nonlinear _activation_ function to the output.\n",
        "\n",
        "The activation functions we are most interested are the rectified linear unit (ReLU) function:\n",
        "\n",
        "$$ \\text{ReLU}(x) = \\max(0,x) $$\n",
        "\n",
        "The leaky ReLU function:\n",
        "\n",
        "$$ \\text{LeakyReLU}(x) = \\left\\{ \\begin{matrix} x && \\text{if}\\;x\\geq0 \\\\ \\alpha x && \\text{otherwise} \\end{matrix} \\right. $$\n",
        "\n",
        "where $\\alpha$ is a positive constant whose value is close to zero.\n",
        "\n",
        "There is also the sigmoid function:\n",
        "\n",
        "$$ S(x) = \\left(1 + e^{-x} \\right)^{-1} $$\n",
        "\n",
        "Finally, there is the softmax function, where each output, $y_i$, is given by\n",
        "\n",
        "$$ y_i = \\frac{e^{x_i}}{\\sum\\limits_j e^{x_j}}. $$\n",
        "\n",
        "You can use the `model.summary()` method to get information about the different layers in the model and check that the layers are the correct shape:"
      ]
    },
    {
      "cell_type": "code",
      "metadata": {
        "id": "4JOcfzr8dP7b",
        "colab_type": "code",
        "colab": {
          "base_uri": "https://localhost:8080/",
          "height": 323
        },
        "outputId": "c3817dad-bc5a-4bc5-e07c-0b17f8cb9545"
      },
      "source": [
        "model.summary()"
      ],
      "execution_count": 6,
      "outputs": [
        {
          "output_type": "stream",
          "text": [
            "Model: \"model_1\"\n",
            "_________________________________________________________________\n",
            "Layer (type)                 Output Shape              Param #   \n",
            "=================================================================\n",
            "input_2 (InputLayer)         (None, 32, 32, 3)         0         \n",
            "_________________________________________________________________\n",
            "flatten_4 (Flatten)          (None, 3072)              0         \n",
            "_________________________________________________________________\n",
            "dense_10 (Dense)             (None, 200)               614600    \n",
            "_________________________________________________________________\n",
            "dense_11 (Dense)             (None, 150)               30150     \n",
            "_________________________________________________________________\n",
            "dense_12 (Dense)             (None, 10)                1510      \n",
            "=================================================================\n",
            "Total params: 646,260\n",
            "Trainable params: 646,260\n",
            "Non-trainable params: 0\n",
            "_________________________________________________________________\n"
          ],
          "name": "stdout"
        }
      ]
    }
  ]
}